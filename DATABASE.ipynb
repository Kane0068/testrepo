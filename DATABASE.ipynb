{
  "nbformat": 4,
  "nbformat_minor": 0,
  "metadata": {
    "colab": {
      "provenance": [],
      "collapsed_sections": [
        "T8mtsX_kR6kf"
      ],
      "authorship_tag": "ABX9TyPQPFsRdXdnKbreo0fYrsKC",
      "include_colab_link": true
    },
    "kernelspec": {
      "name": "python3",
      "display_name": "Python 3"
    },
    "language_info": {
      "name": "python"
    }
  },
  "cells": [
    {
      "cell_type": "markdown",
      "metadata": {
        "id": "view-in-github",
        "colab_type": "text"
      },
      "source": [
        "<a href=\"https://colab.research.google.com/github/Kane0068/testrepo/blob/main/DATABASE.ipynb\" target=\"_parent\"><img src=\"https://colab.research.google.com/assets/colab-badge.svg\" alt=\"Open In Colab\"/></a>"
      ]
    },
    {
      "cell_type": "markdown",
      "source": [
        "# A) SELECT"
      ],
      "metadata": {
        "id": "B5X0jNE__9W2"
      }
    },
    {
      "cell_type": "markdown",
      "source": [
        "# 1-SELECT İŞLEMLERİ"
      ],
      "metadata": {
        "id": "w-lXDXJyAN73"
      }
    },
    {
      "cell_type": "markdown",
      "source": [
        "* BÜTÜN VERİLERİ ÇEKMEK İÇİN;\n",
        "\n",
        "    `* SELECT * FROM FilmLocations;`"
      ],
      "metadata": {
        "id": "2B0Jt_gdAN-W"
      }
    },
    {
      "cell_type": "markdown",
      "source": [
        "*  İSTENİLEN VERİLERİ ÇEKMEK İÇİN;\n",
        "\n",
        "    `* SELECT Title,Writer FROM FilmLocations;`"
      ],
      "metadata": {
        "id": "6jGE6_iNAOAm"
      }
    },
    {
      "cell_type": "markdown",
      "source": [
        "* VERİLERİ ÇEKERKEN BELİRLİ BİR SINIRLAMA YAPMAK İÇİN(2000 den sonraki filmlerin adını çek);\n",
        "\n",
        "      `SELECT Title FROM FilmLocations WHERE ReleaseYear >= 2000;`\n"
      ],
      "metadata": {
        "id": "SCIfT4k3G14y"
      }
    },
    {
      "cell_type": "markdown",
      "source": [
        "* James Cameron yazmadığı filmlerin isimlerini ve nerede çekildiğini çek;\n",
        "      \n",
        "      * SELECT Title,Locations FROM FilmLocations WHERE Writer <> 'James Cameron';"
      ],
      "metadata": {
        "id": "KQsCHp4pAOFm"
      }
    },
    {
      "cell_type": "markdown",
      "source": [
        "##2-SELECT-COUNT İŞLEMLERİ"
      ],
      "metadata": {
        "id": "9hkfyfU8AOH7"
      }
    },
    {
      "cell_type": "markdown",
      "source": [
        "* BÜTÜN SATIR SAYILARINI BULMAK İÇİN;\n",
        "\n",
        "    `SELECT COUNT(*) FROM FilmLocations;`"
      ],
      "metadata": {
        "id": "Xsngx0vXAOKG"
      }
    },
    {
      "cell_type": "markdown",
      "source": [
        "* Retrieve the number of locations of the films which are written by James Cameron.(James Cameron tarafından yazılan filmlerin konum bilgi sayısı);\n",
        "\n",
        "    `SELECT COUNT(Locations) FROM FilmLocations WHERE Writer = 'James Cameron';`"
      ],
      "metadata": {
        "id": "aXRdmqivAOMX"
      }
    },
    {
      "cell_type": "markdown",
      "source": [
        "* Retrieve the number of locations of the films which are directed by Woody Allen.\n",
        "\n",
        "        SELECT COUNT(Locations) FROM FilmLocations WHERE director = 'Woody Allen';"
      ],
      "metadata": {
        "id": "GGLrkKldAOOv"
      }
    },
    {
      "cell_type": "markdown",
      "source": [
        "*  Retrieve the number of films shot at Russian Hill.\n",
        "\n",
        "          SELECT COUNT(Title) FROM FilmLocations WHERE Locations = 'Russian Hill';"
      ],
      "metadata": {
        "id": "ZG3uoGjDJK20"
      }
    },
    {
      "cell_type": "markdown",
      "source": [
        "*   Retrieve the number of rows having a release year older than 1950 from the “FilmLocations” table.\n",
        "\n",
        "     ` SELECT COUNT(*) FROM FilmLocations WHERE ReleaseYear < 1950;`\n",
        "\n"
      ],
      "metadata": {
        "id": "67b2klwWJK9K"
      }
    },
    {
      "cell_type": "markdown",
      "source": [
        "## 3- SELECT - DİSTINCT (Tekrar yok)"
      ],
      "metadata": {
        "id": "ham0FjYmJK_6"
      }
    },
    {
      "cell_type": "markdown",
      "source": [
        "*  Retrieve the name of all films without any repeated titles.\n",
        "\n",
        "      \n",
        "\n",
        "```\n",
        "SELECT DISTINCT Title FROM FilmLocations;\n",
        "```\n",
        "\n"
      ],
      "metadata": {
        "id": "HS6uVUq2JLCS"
      }
    },
    {
      "cell_type": "markdown",
      "source": [
        "* Retrieve the number of release years of the films distinctly, produced by Warner Bros. Pictures.\n",
        "\n",
        "\n",
        "\n",
        "```\n",
        "  SELECT COUNT(DISTINCT ReleaseYear) FROM FilmLocations WHERE ProductionCompany = 'Warner Bros. Pictures';\n",
        "```\n",
        "\n",
        "\n",
        "\n"
      ],
      "metadata": {
        "id": "I6njM9fzJLEr"
      }
    },
    {
      "cell_type": "markdown",
      "source": [
        "* Retrieve the name of all unique films released in the 21st century and onwards, along with their release years.\n",
        "\n",
        "\n",
        "\n",
        "```\n",
        "SELECT DISTINCT Title,ReleaseYear FROM FilmLocations WHERE ReleaseYear >= 2000;\n",
        "```\n",
        "\n",
        "\n"
      ],
      "metadata": {
        "id": "Qg3QIYFiO01y"
      }
    },
    {
      "cell_type": "markdown",
      "source": [
        "*  Retrieve the names of all the directors and their distinct films shot at City Hall.\n",
        "\n",
        "\n",
        "\n",
        "```\n",
        "SELECT DISTINCT Title , Director FROM FilmLocations WHERE Locations = 'City Hall';\n",
        "```\n",
        "\n"
      ],
      "metadata": {
        "id": "2O_1KRfAO04Q"
      }
    },
    {
      "cell_type": "markdown",
      "source": [
        "*  Retrieve the number of distributors distinctly who distributed films acted by Clint Eastwood as 1st actor.\n",
        "\n",
        "\n",
        "\n",
        "```\n",
        "SELECT COUNT(DISTINCT Distributor) FROM FilmLocations WHERE Actor1 = \"Clint EastWood\";\n",
        "```\n",
        "\n"
      ],
      "metadata": {
        "id": "0kiXnwK-O06w"
      }
    },
    {
      "cell_type": "markdown",
      "source": [
        "## 4- SELECT LIMIT\n",
        "*   İstediğimiz kadarını çekeriz\n",
        "*   5 tanesini göster gibi..."
      ],
      "metadata": {
        "id": "gzhNds63O09V"
      }
    },
    {
      "cell_type": "markdown",
      "source": [
        "*  Retrieve the first 25 rows from the “FilmLocations” table.\n",
        "\n",
        "\n",
        "```\n",
        "SELECT * FROM FilmLocations LIMIT 25;\n",
        "```\n",
        "\n",
        "\n"
      ],
      "metadata": {
        "id": "OOmanMNdO0_x"
      }
    },
    {
      "cell_type": "markdown",
      "source": [
        "*   Retrieve the name of first 50 films distinctly.\n",
        "\n",
        "\n",
        "\n",
        "```\n",
        "SELECT DISTINCT Title FROM FilmLocations LIMIT 50;\n",
        "```\n",
        "\n"
      ],
      "metadata": {
        "id": "OrXjsz4MO1CM"
      }
    },
    {
      "cell_type": "markdown",
      "source": [
        "*   Retrieve first 10 film names distinctly released in 2015.\n",
        "\n",
        "\n",
        "```\n",
        "`SELECT DISTINCT Title FROM FilmLocations WHERE ReleaseYear = 2015 LIMIT 10;`\n",
        "```\n",
        "\n",
        "\n"
      ],
      "metadata": {
        "id": "ZxCTJ0cgR6fw"
      }
    },
    {
      "cell_type": "markdown",
      "source": [
        "Retrieve the next 3 film names distinctly after first 5 films released in 2015.\n",
        "\n",
        "\n",
        "\n",
        "```\n",
        "SELECT DISTINCT Title FROM FilmLocations WHERE ReleaseYear = 2015 LIMIT 5 OFFSET 3;\n",
        "```\n",
        "\n"
      ],
      "metadata": {
        "id": "Ix9CcaFrR6iG"
      }
    },
    {
      "cell_type": "markdown",
      "source": [
        "# B) INSERT-UPDATE-DELETE"
      ],
      "metadata": {
        "id": "T8mtsX_kR6kf"
      }
    },
    {
      "cell_type": "markdown",
      "source": [
        "**TABLE NAME : Instructor**\n",
        "\n",
        "ins_id------lastname-------firstname------city------country"
      ],
      "metadata": {
        "id": "Aj9AYrW-R6mw"
      }
    },
    {
      "cell_type": "markdown",
      "source": [
        "## 1- INSERT"
      ],
      "metadata": {
        "id": "YcdgeAeSR6pH"
      }
    },
    {
      "cell_type": "markdown",
      "source": [
        "*   Insert a new instructor record with id 4 for Sandip Saha who lives in Edmonton, CA into the “Instructor” table.\n",
        "\n",
        "\n",
        "\n",
        "```\n",
        "INSERT INTO Instructor(ins_id,lastname,firstname,city,countr) VALUES (4,'Sandip','Saha','Edmonton','CA');\n",
        "```\n",
        "\n",
        "\n",
        "\n"
      ],
      "metadata": {
        "id": "o7J26m2RR6re"
      }
    },
    {
      "cell_type": "markdown",
      "source": [
        "*   Insert two new instructor records into the “Instructor” table. First record with id 5 for John Doe who lives in Sydney, AU. Second record with id 6 for Jane Doe who lives in Dhaka, BD.\n",
        "\n",
        "\n",
        "\n",
        "```\n",
        "INSERT INTO Instructor(ins_id,lastname,firstname,city,country)VALUES(5,\"Doe\",\"John\",\"Sydney\",\"AU\"),(6,\"Doe\",\"Jane\",\"Dhaka\",\"BD\");\n",
        "```\n",
        "\n",
        "\n"
      ],
      "metadata": {
        "id": "yLDibl-JR6tz"
      }
    },
    {
      "cell_type": "markdown",
      "source": [
        "Problem:\n",
        "\n",
        "Insert a new instructor record with id 7 for Antonio Cangiano who lives in Vancouver, CA into the “Instructor” table.\n",
        "\n",
        "\n",
        "\n",
        "```\n",
        "INSERT INTO Instructor(ins_id,lastname,firstname,city,country)VALUES(7,\"Cangiano\",\"Antonio\",\"Vancouver\",\"CA\");\n",
        "```\n",
        "\n"
      ],
      "metadata": {
        "id": "Jg0lXlAnR6v8"
      }
    },
    {
      "cell_type": "markdown",
      "source": [
        "Problem:\n",
        "\n",
        "Insert two new instructor records into the “Instructor” table. First record with id 8 for Steve Ryan who lives in Barlby, GB. Second record with id 9 for Ramesh Sannareddy who lives in Hyderabad, IN.\n",
        "\n",
        "\n",
        "\n",
        "```\n",
        "INSERT INTO Instructor(ind_id,lastname,firstname,city,country)VALUES(8,\"Ryan\",\"Steve\",\"Barlby\",\"GB\"),(9,\"Sannareddy\",\"Ramesh\",\"Hyderabad\",\"IN\");\n",
        "```\n",
        "\n",
        "\n",
        "\n"
      ],
      "metadata": {
        "id": "48Ch2qnWd3RD"
      }
    },
    {
      "cell_type": "markdown",
      "source": [
        "## 2- UPDATE"
      ],
      "metadata": {
        "id": "3nq_MXw9d3TJ"
      }
    },
    {
      "cell_type": "markdown",
      "source": [
        "Problem:\n",
        "\n",
        "Update the city for Sandip to Toronto.\n",
        "\n",
        "\n",
        "\n",
        "```\n",
        "UPDATE Instructor SET city = \"Toronto\" WHERE firstname = \"Sandip\";\n",
        "```\n",
        "\n",
        "\n"
      ],
      "metadata": {
        "id": "rCUV0mf8d3V1"
      }
    },
    {
      "cell_type": "markdown",
      "source": [
        "Problem:\n",
        "\n",
        "Update the city and country for Doe with id 5 to Dubai and AE respectively.\n",
        "\n",
        "\n",
        "\n",
        "```\n",
        "UPDATE Instructor SET city = \"Dubai\",country = \"AE\" WHERE ins_id = 5;\n",
        "```\n",
        "\n"
      ],
      "metadata": {
        "id": "qf72KDwof9pU"
      }
    },
    {
      "cell_type": "markdown",
      "source": [
        "Problem:\n",
        "\n",
        "Update the city of the instructor record to Markham whose id is 1.\n",
        "\n",
        "\n",
        "\n",
        "```\n",
        "UPDATE Instructor SET city = \"Markham\" WHERE ins_id = 1;\n",
        "```\n",
        "\n",
        "\n"
      ],
      "metadata": {
        "id": "OtfpaTr5f9ri"
      }
    },
    {
      "cell_type": "markdown",
      "source": [
        "PROBLEM\n",
        "  Update the city and country for Sandip with id 4 to Dhaka and BD respectively.\n",
        "\n",
        "\n",
        "\n",
        "\n",
        "```\n",
        "UPDATE Instructor city = \"Dhaka\",country = \"BD\" WHERE ins_id = 4;\n",
        "```\n",
        "\n",
        "\n",
        "\n"
      ],
      "metadata": {
        "id": "0QEWFLS5f9tz"
      }
    },
    {
      "cell_type": "markdown",
      "source": [
        "## 3- DELETE"
      ],
      "metadata": {
        "id": "2433Wx3Uf9wN"
      }
    },
    {
      "cell_type": "markdown",
      "source": [
        "Remove the instructor record of Doe whose id is 6.\n",
        "\n",
        "\n",
        "\n",
        "```\n",
        "DELETE FROM Instructor WHERE ins_id = 6;\n",
        "```\n",
        "\n",
        "\n"
      ],
      "metadata": {
        "id": "zGIM6LsXf9yN"
      }
    },
    {
      "cell_type": "markdown",
      "source": [
        "Problem:\n",
        "\n",
        "Remove the instructor record of Hima.\n",
        "\n",
        "\n",
        "\n",
        "```\n",
        "DELETE FROM Instructor WHERE firstname = 'Hima';\n",
        "```\n",
        "\n"
      ],
      "metadata": {
        "id": "HwJkQWs-jWO5"
      }
    },
    {
      "cell_type": "markdown",
      "source": [
        "*  Verileri okumak ve değiştirmek için Veri Manipülasyon Dili (DML) deyimlerini kullanabilirsiniz. \n",
        "\n",
        "* WHERE yan tümcesinin arama koşulu, aramayı geliştirmek için bir yüklem kullanır. \n",
        "\n",
        "* COUNT, DISTINCT ve LIMIT, SELECT deyimleriyle kullanılan ifadelerdir. \n",
        "\n",
        "* INSERT, UPDATE ve DELETE, tabloları doldurmak ve değiştirmek için kullanılan DML ifadeleridir. "
      ],
      "metadata": {
        "id": "qnSsD5MXj5xG"
      }
    },
    {
      "cell_type": "markdown",
      "source": [
        "![Screenshot_1.png](data:image/png;base64,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)"
      ],
      "metadata": {
        "id": "8S3zHMrSkCu2"
      }
    },
    {
      "cell_type": "markdown",
      "source": [
        "# IBM DB2"
      ],
      "metadata": {
        "id": "M6TaFIyLkQWh"
      }
    },
    {
      "cell_type": "markdown",
      "source": [
        "#1- CREATE"
      ],
      "metadata": {
        "id": "AUlgTI-uzmwP"
      }
    },
    {
      "cell_type": "markdown",
      "source": [
        "* CREATE TABLE İN DB2\n",
        "\n",
        "*   TABLE NAME : PETSALE\n",
        "*   Columns : ID,PET,SALEPRICE,PROFIT,SALEDATE\n",
        "\n"
      ],
      "metadata": {
        "id": "4WmCpIUnzmyt"
      }
    },
    {
      "cell_type": "markdown",
      "source": [
        "\n",
        "\n",
        "```\n",
        "CREATE TABLE PETSALE(\n",
        "  ID INTEGER NOT NULL,\n",
        "  PET CHAR(20),\n",
        "  SALEPRICE DECIMAL(6,2),\n",
        "  PROFIT DECIMAL(6,2),\n",
        "  SALEDATE DATE);\n",
        "```\n",
        "\n"
      ],
      "metadata": {
        "id": "VwguAMNgzm1A"
      }
    },
    {
      "cell_type": "markdown",
      "source": [
        "## 2- ADD DATA"
      ],
      "metadata": {
        "id": "ElzXOzmvzm3f"
      }
    },
    {
      "cell_type": "markdown",
      "source": [
        "\n",
        "\n",
        "```\n",
        "INSERT INTO PETSALE VALUES\n",
        "    (1,'Cat',450.09,100.47,'2018-05-29'),\n",
        "    (2,'Dog',666.66,150.76,'2018-06-01'),\n",
        "    (3,'Parrot',50.00,8.9,'2018-06-04'),\n",
        "    (4,'Hamster',60.60,12,'2018-06-11'),\n",
        "    (5,'Goldfish',48.48,3.5,'2018-06-14');\n",
        "    \n",
        "INSERT INTO PET VALUES\n",
        "    (1,'Cat',3),\n",
        "    (2,'Dog',4),\n",
        "    (3,'Hamster',2);\n",
        "```\n",
        "\n"
      ],
      "metadata": {
        "id": "MvNE_v0Wzm5n"
      }
    },
    {
      "cell_type": "markdown",
      "source": [
        "# C) ALTER"
      ],
      "metadata": {
        "id": "eeShb9NeZiyb"
      }
    },
    {
      "cell_type": "markdown",
      "source": [
        "##1-ALTER(SÜTUN EKLEME)"
      ],
      "metadata": {
        "id": "5bkYG4uqVdmp"
      }
    },
    {
      "cell_type": "markdown",
      "source": [
        "Alıştırma 1'de oluşturulan mevcut tablolardan ikisine sütun eklemek, silmek veya değiştirmek için ALTER deyimini kullanacaksınız."
      ],
      "metadata": {
        "id": "w9Wa0bpwzm78"
      }
    },
    {
      "cell_type": "markdown",
      "source": [
        "* PETSALE TABLOSUNA INTEGER DEĞER ALAN QUANTITY(MİKTAR) SÜTUNU EKLEYELIM\n",
        "\n",
        "\n",
        "\n",
        "```\n",
        "ALTER TABLE PETSALE ADD COLUMN QUANTITY INTEGER;\n",
        "```\n",
        "\n"
      ],
      "metadata": {
        "id": "e8jBFIZzzm-I"
      }
    },
    {
      "cell_type": "markdown",
      "source": [
        "* EKLEDİĞİMİZ QUANTITY SÜTUNUNA VERİ GİRELİM\n",
        "\n",
        "\n",
        "```\n",
        "UPDATE PETSALE SET QUANTITY = 9 WHERE ID =1;\n",
        "UPDATE PETSALE SET QUANTITY = 5 WHERE ID =2;\n",
        "UPDATE PETSALE SET QUANTITY = 12 WHERE ID =3;\n",
        "UPDATE PETSALE SET QUANTITY = 10 WHERE ID =4;\n",
        "UPDATE PETSALE SET QUANTITY = 4 WHERE ID =5;\n",
        "```\n",
        "\n"
      ],
      "metadata": {
        "id": "DbeWaTWJznAe"
      }
    },
    {
      "cell_type": "markdown",
      "source": [
        "##2- ALTER(SÜTUN ÇIKARMA)"
      ],
      "metadata": {
        "id": "mbM8LPwNVnzl"
      }
    },
    {
      "cell_type": "markdown",
      "source": [
        "* İSTENİLEN BİR SÜTUNU ÇIKARMAK İÇİN;\n",
        "\n",
        "\n",
        "```\n",
        "ALTER TABLE PETSALE DROP COLUMN PROFIT;\n",
        "```\n",
        "\n"
      ],
      "metadata": {
        "id": "ObyoWTdvVn1z"
      }
    },
    {
      "cell_type": "markdown",
      "source": [
        "## 3- ALTER(VERİ TİPİNİ VEYA ALACAĞI KARAKTER SAYISINI DEĞİŞTİRME)"
      ],
      "metadata": {
        "id": "h97bRYMsVn4H"
      }
    },
    {
      "cell_type": "markdown",
      "source": [
        "* PETSALE tablosunun PET sütununun veri türünü VARCHAR(20) olarak değiştirin ve değiştirilmiş tabloyu gösterelim.\n",
        "\n",
        "\n",
        "\n",
        "```\n",
        "ALTER TABLE PETSALE ALTER COLUMN PET DATA TYPE VARCHAR(20);\n",
        "```\n",
        "\n"
      ],
      "metadata": {
        "id": "7vFe675CVn6c"
      }
    },
    {
      "cell_type": "markdown",
      "source": [
        "## 4- ALTER(RENAME COLUMNNAME)"
      ],
      "metadata": {
        "id": "9RUdjDTpVn8o"
      }
    },
    {
      "cell_type": "markdown",
      "source": [
        "*  SÜTUN İSMİNİ DEĞİŞTİRMEK İSTİYORUZ\n",
        "\n",
        "\n",
        "\n",
        "```\n",
        "ALTER TABLE PETSALE RENAME COLUMN PET TO ANIMAL;\n",
        "```\n",
        "\n",
        "\n",
        "\n"
      ],
      "metadata": {
        "id": "Q1VpGRnOY8ie"
      }
    },
    {
      "cell_type": "markdown",
      "source": [
        "#D)TRUNCATE\n",
        "* TABLOYU DEĞİL İÇİNDEKİLERİ BOŞALTIR"
      ],
      "metadata": {
        "id": "WqB-1m2rY8kw"
      }
    },
    {
      "cell_type": "markdown",
      "source": [
        "*  PET tablosundaki tüm satırları kaldırın ve boş tabloyu gösterin\n",
        "\n",
        "\n",
        "\n",
        "```\n",
        "TRUNCATE TABLE PET IMMEDIATE;\n",
        "```\n",
        "\n"
      ],
      "metadata": {
        "id": "QRa7lU7NY8m7"
      }
    },
    {
      "cell_type": "markdown",
      "source": [
        "# E) DROP"
      ],
      "metadata": {
        "id": "CqWHKRRfY8pJ"
      }
    },
    {
      "cell_type": "markdown",
      "source": [
        "*  PET tablosunu silin ve tablonun hala var olup olmadığını doğrulayın (tablo yoksa SELECT deyimi çalışmaz). \n",
        "\n",
        "DROP TABLE PET;"
      ],
      "metadata": {
        "id": "M2ogFB7BY8re"
      }
    },
    {
      "cell_type": "markdown",
      "source": [
        "# STRİNG PATTERNS"
      ],
      "metadata": {
        "id": "9MQbGIpzY8tf"
      }
    },
    {
      "cell_type": "markdown",
      "source": [
        "Retrieve all employees whose address is in Elgin,IL."
      ],
      "metadata": {
        "id": "CG4ABDkOcFT6"
      }
    },
    {
      "cell_type": "code",
      "source": [
        "SELECT F_NAME,L_NAME FROM EMPLOYEES WHERE ADRESS LİKE '%Elgin,IL%';"
      ],
      "metadata": {
        "id": "XQJirUD0cFWU"
      },
      "execution_count": null,
      "outputs": []
    },
    {
      "cell_type": "markdown",
      "source": [
        "*  Retrieve all employees who were born during the 1970's.(1970 li yıllarda doğan tüm çalışanları getir)\n",
        "\n",
        "\n",
        "\n",
        "```\n",
        "SELECT F_NAME,L_NAME\n",
        "FROM EMPLOYEES\n",
        "WHERE B_DATE LIKE '197%';\n",
        "```\n",
        "\n"
      ],
      "metadata": {
        "id": "XFsZnQeUcFYw"
      }
    },
    {
      "cell_type": "markdown",
      "source": [
        "*  Retrieve all employees in department 5 whose salary is between 60000 and 70000.(Maaşı 60000 ile 70000 arasındaki 5.departmandaki çalışanları getir)\n",
        "\n",
        "\n",
        "\n",
        "```\n",
        "SELECT * FROM\n",
        "FROM EMPLOYEES\n",
        "WHERE (SALARY BETWEEN 60000 AND 70000) AND DEP_ID=5;\n",
        "```\n",
        "\n"
      ],
      "metadata": {
        "id": "X-ijd6OncFa9"
      }
    },
    {
      "cell_type": "markdown",
      "source": [
        "# SORTİNG(SIRALAMA)"
      ],
      "metadata": {
        "id": "ep0wLr6icFdf"
      }
    },
    {
      "cell_type": "markdown",
      "source": [
        "*  Retrieve a list of employees ordered by department ID.\n",
        "*   Çalışanların listesini departmana göre sırala\n",
        "\n",
        "\n",
        "```\n",
        "SELECT F_NAME,L_NAME,DEP_ID\n",
        "FROM EMPLOYEES\n",
        "ORDER BY DEP_ID;\n",
        "```\n",
        "\n"
      ],
      "metadata": {
        "id": "JHIeANXKcFht"
      }
    },
    {
      "cell_type": "markdown",
      "source": [
        "* Retrieve a list of employees ordered in descending order by department ID and within each department ordered alphabetically in descending order by last name.\n",
        "* Departman kimliğine göre azalan sırada ve her departman içinde soyadına göre azalan sırada alfabetik olarak sıralanmış çalışanların bir listesini alın.\n",
        "\n",
        "\n",
        "\n",
        "```\n",
        "SELECT F_NAME,L_NAME,DEP_ID\n",
        "FROM EMPLOYEES\n",
        "ORDER BY DEP_ID DESC , L_NAME DESC;\n",
        "```\n",
        "\n"
      ],
      "metadata": {
        "id": "b3l-L2PKcFkX"
      }
    },
    {
      "cell_type": "markdown",
      "source": [
        "* In SQL problem 2 (Exercise 2 Problem 2), use department name instead of department ID. Retrieve a list of employees ordered by department name, and within each department ordered alphabetically in descending order by last name.\n",
        "\n",
        "*  SQL problemi 2'de (Alıştırma 2 Problem 2) departman kimliği yerine departman adını kullanın. Departman adına göre sıralanmış ve her departman içinde soyadına göre azalan sırada alfabetik olarak sıralanmış çalışanların bir listesini alın.\n",
        "\n",
        "* DEPARTMENTS TABLOSUYLA BİRLEŞTİRECEC\n",
        " > EMPLOYESS i E diye kısalt\n",
        " > DEPARTMENTS i D diye kısalt\n",
        " \n",
        "\n",
        "\n",
        "```\n",
        "SELECT D.DEP_NAME , E.F_NAME, E.L_NAME\n",
        "FROM EMPLOYEES as E, DEPARTMENTS as D\n",
        "WHERE E.DEP_ID = D.DEPT_ID_DEP\n",
        "ORDER BY D.DEP_NAME, E.L_NAME DESC;\n",
        "```\n",
        "\n"
      ],
      "metadata": {
        "id": "LgHcZllvclPC"
      }
    },
    {
      "cell_type": "markdown",
      "source": [
        "#GROUPİNG"
      ],
      "metadata": {
        "id": "piLYDTPhclSb"
      }
    },
    {
      "cell_type": "markdown",
      "source": [
        "* For each department ID retrieve the number of employees in the department.\n",
        "\n",
        "* Her departman kimliği için departmandaki çalışan sayısını alın.\n",
        "\n",
        "\n",
        "\n",
        "\n",
        "```\n",
        "SELECT DEP_ID , COUNT(*)\n",
        "FROM EMPLOYEES\n",
        "GROUP BY DEP_ID;\n",
        "```\n",
        "\n",
        "\n"
      ],
      "metadata": {
        "id": "HwG7k9MdclVf"
      }
    },
    {
      "cell_type": "markdown",
      "source": [
        "* For each department retrieve the number of employees in the department, and the average employee salary in the department..\n",
        "\n",
        "* Her departman için departmandaki çalışan sayısı ve ortalama maaşlarını getir\n",
        "\n",
        "\n",
        "\n",
        "```\n",
        "SELECT DEP_ID , COUNT(*), AVG(SALARY)\n",
        "FROM EMPLOYEES\n",
        "GROUP BY DEP_ID;\n",
        "```\n",
        "\n"
      ],
      "metadata": {
        "id": "7m6dB0l8clYk"
      }
    },
    {
      "cell_type": "markdown",
      "source": [
        "* Label the computed columns in the result set of SQL problem 2 (Exercise 3 Problem 2) as NUM_EMPLOYEES and AVG_SALARY.\n",
        "\n",
        "*SQL problemi 2'nin (Alıştırma 3 Problem 2) sonuç kümesindeki hesaplanan sütunları NUM_EMPLOYEES ve AVG_SALARY olarak etiketleyin.\n",
        "\n",
        "\n",
        "\n",
        "```\n",
        "SELECT DEP_ID , COUNT(*) AS NUM_EMPLOYEES\n",
        "AVG(SALARY) AS AVG_SALARY\n",
        "FROM EMPLOYEES\n",
        "GROUP BY DEP_ID;\n",
        "```\n",
        "\n"
      ],
      "metadata": {
        "id": "M1R5nKLLclbP"
      }
    },
    {
      "cell_type": "markdown",
      "source": [
        "** In SQL problem 3 (Exercise 3 Problem 3), order the result set by Average Salary..\n",
        "\n",
        "* SQL problemi 3'te (Alıştırma 3 Problem 3), sonuç kümesini Ortalama Maaş'a göre sıralayın...\n",
        "\n",
        "\n",
        "\n",
        "```\n",
        "SELECT DEP_ID,COUNT(*) AS NUM_EMPLOYEES,AVG(SALARY) AS AVG_SALARY\n",
        "FROM EMPLOYEES\n",
        "GROUP BY DEP_ID \n",
        "ORDER BY AVG_SALARY;\n",
        "```\n",
        "\n",
        "\n"
      ],
      "metadata": {
        "id": "7zy9vQeucleD"
      }
    },
    {
      "cell_type": "markdown",
      "source": [
        "*  In SQL problem 4 (Exercise 3 Problem 4), limit the result to departments with fewer than 4 employees.\n",
        "\n",
        "* SQL problemi 4'te (Alıştırma 3 Problem 4), sonucu 4'ten az çalışanı olan departmanlarla sınırlayın.\n",
        "\n",
        "\n",
        "\n",
        "```\n",
        "SELECT DEP_ID,COUNT(*) AS NUM_EMPLOYEES,AVG(SALARY) AS AVG_SALARY\n",
        "FROM EMPLOYEES\n",
        "GROUP BY DEP_ID\n",
        "HAVİNG count(*) < 4\n",
        "ORDER BY AVG_SALARY;\n",
        "```\n",
        "\n"
      ],
      "metadata": {
        "id": "JkTPRnrMclgv"
      }
    },
    {
      "cell_type": "markdown",
      "source": [
        "# BUİLD IN FUNCTIONS"
      ],
      "metadata": {
        "id": "FtBwzaJycljM"
      }
    },
    {
      "cell_type": "markdown",
      "source": [
        "## EXERCİSE - 1\n",
        "\n",
        "* SUM\n",
        "* AVG\n",
        "* AS\n",
        "* MIN\n",
        "* MAX"
      ],
      "metadata": {
        "id": "O7ZesIgg40uE"
      }
    },
    {
      "cell_type": "markdown",
      "source": [
        "**PETRESCUE TABLE EXAMPLE**\n",
        "\n",
        "<table ><tr><th >ID<th><th> ANIMAL <th><th> QUANTITY<th><th> COST<th><th> RESQUEDATE<tr><tr>\n",
        "<tr><td> 1 <td><td> Cat<td><td> 9<td><td> 450.09 <td><td> 2018-05-29 <td><tr><table>\n",
        "\n",
        "\n"
      ],
      "metadata": {
        "id": "URIhU0Fp05qA"
      }
    },
    {
      "cell_type": "markdown",
      "source": [
        "* Query A1: Enter a function that calculates the total cost of all animal rescues in the PETRESCUE table.\n",
        "* Sorgu A1: PETRESCUE tablosundaki tüm hayvan kurtarma işlemlerinin toplam maliyetini hesaplayan bir işlev girin.\n",
        "\n",
        "\n",
        "\n",
        "```\n",
        "SELECT SUM(COST) FROM PETRESCUE;\n",
        "```\n",
        "\n"
      ],
      "metadata": {
        "id": "bPKAdT31cllv"
      }
    },
    {
      "cell_type": "markdown",
      "source": [
        "* Query A2: Enter a function that displays the total cost of all animal rescues in the PETRESCUE table in a column called SUM_OF_COST.\n",
        "\n",
        "* Sorgu A2: SUM_OF_COST adlı bir sütunda PETRESCUE tablosundaki tüm hayvan kurtarmalarının toplam maliyetini görüntüleyen bir işlev girin.\n",
        "\n",
        "\n",
        "\n",
        "```\n",
        "SELECT SUM(COST) AS SUM_OF_COST FROM PETRESCUE;\n",
        "```\n",
        "\n",
        "\n",
        "\n"
      ],
      "metadata": {
        "id": "o-S4_OAgcloT"
      }
    },
    {
      "cell_type": "markdown",
      "source": [
        "* Query A3: Enter a function that displays the maximum quantity of animals rescued.\n",
        "\n",
        "* Sorgu A3: Kurtarılan maksimum hayvan miktarını gösteren bir işlev girin.\n",
        "\n",
        "\n",
        "\n",
        "```\n",
        "SELECT MAX(QUANTITY) FROM PETRESCUE;\n",
        "```\n",
        "\n",
        "\n",
        "\n",
        "\n"
      ],
      "metadata": {
        "id": "u4izGJzeclq3"
      }
    },
    {
      "cell_type": "markdown",
      "source": [
        "* Query A4: Enter a function that displays the average cost of animals rescued.\n",
        "\n",
        "* Sorgu A4: Kurtarılan hayvanların ortalama maliyetini gösteren bir işlev girin.\n",
        "\n",
        "\n",
        "\n",
        "```\n",
        "SELECT AVG(COST) FROM PETRESCUE;\n",
        "```\n",
        "\n"
      ],
      "metadata": {
        "id": "o8uxLM33clti"
      }
    },
    {
      "cell_type": "markdown",
      "source": [
        "* Query A5: Enter a function that displays the average cost of rescuing a dog.\n",
        "\n",
        "\n",
        "\n",
        "* Sorgu A5: Bir köpeği kurtarmanın ortalama maliyetini gösteren bir işlev girin.\n",
        "\n",
        "\n",
        "\n",
        "```\n",
        "SELECT AVG(COST) FROM PETRESCUE WHERE ANIMAL = 'Dog';\n",
        "```\n",
        "\n",
        "\n",
        "\n"
      ],
      "metadata": {
        "id": "HrqeDoll2lxq"
      }
    },
    {
      "cell_type": "markdown",
      "source": [
        "## EXERCISE -2\n",
        "* Scalar and String Functions\n",
        "  > * ROUND------->    (YUVARLAMA)\n",
        "  > * LENGHT------->(UZUNLUK)\n",
        "  > * UCASE------->(BÜYÜK HARF)\n",
        "  > * LCASE------->(KÜÇÜK HARF)"
      ],
      "metadata": {
        "id": "J4Pghz674yod"
      }
    },
    {
      "cell_type": "markdown",
      "source": [
        "* Query B1: Enter a function that displays the rounded cost of each rescue.\n",
        "* Sorgu B1: Her kurtarmanın yuvarlatılmış maliyetini görüntüleyen bir işlev girin.\n",
        "\n",
        "\n",
        "\n",
        "```\n",
        "SELECT ROUND(COST) FROM PETRESCUE;\n",
        "```\n",
        "\n"
      ],
      "metadata": {
        "id": "d0DQL9-84yvo"
      }
    },
    {
      "cell_type": "markdown",
      "source": [
        "* Query B2: Enter a function that displays the length of each animal name.\n",
        "* Sorgu B2: Her bir hayvan adının uzunluğunu görüntüleyen bir işlev girin.\n",
        "\n",
        "\n",
        "\n",
        "```\n",
        "SELECT LENGTH(ANIMAL) FROM PETRESCUE;\n",
        "```\n",
        "\n",
        "\n"
      ],
      "metadata": {
        "id": "xtMYy8Fy4yyE"
      }
    },
    {
      "cell_type": "markdown",
      "source": [
        "* Query B3: Enter a function that displays the animal name in each rescue in uppercase.\n",
        "* Sorgu B3: Her kurtarmada hayvan adını büyük harfle görüntüleyen bir işlev girin.\n",
        "\n",
        "\n",
        "\n",
        "```\n",
        "SELECT UCASE(ANIMAL) FROM PETRESCUE;\n",
        "```\n",
        "\n",
        "\n"
      ],
      "metadata": {
        "id": "b5S6xio-4y0e"
      }
    },
    {
      "cell_type": "markdown",
      "source": [
        "* Query B4: Enter a function that displays the animal name in each rescue in uppercase without duplications.\n",
        "* Sorgu B4: Her kurtarmada hayvan adını yinelemeler olmadan büyük harfle görüntüleyen bir işlev girin.\n",
        "\n",
        "\n",
        "\n",
        "```\n",
        "SELECT DISTINCT(UCASE(ANIMAL)) FROM PETRESCUE;\n",
        "```\n",
        "\n",
        "\n"
      ],
      "metadata": {
        "id": "aMyP0GZ16f_m"
      }
    },
    {
      "cell_type": "markdown",
      "source": [
        "* Query B5: Enter a query that displays all the columns from the PETRESCUE table, where the animal(s) rescued are cats. Use cat in lower case in the query.\n",
        "* Sorgu B5: Kurtarılan hayvan(lar)ın kediler olduğu PETRESCUE tablosundaki tüm sütunları görüntüleyen bir sorgu girin. Sorguda kediyi küçük harfle kullanın .\n",
        "\n",
        "\n",
        "\n",
        "```\n",
        "SELECT * FROM PETRESCUE WHERE LCACE(ANIMAL) = 'cat';\n",
        "```\n",
        "\n",
        "\n",
        "\n"
      ],
      "metadata": {
        "id": "NOMbvj566gCC"
      }
    },
    {
      "cell_type": "markdown",
      "source": [
        "## Exercise 3: Date and Time Functions\n",
        "  > * DAY\n",
        "  > * MONTH\n",
        "  > * YEAR\n",
        "  > * CURRENT_DATE ------->(BUGÜNÜN TARİHİ)"
      ],
      "metadata": {
        "id": "-Zk2zAQN6gEh"
      }
    },
    {
      "cell_type": "markdown",
      "source": [
        "**PETRESCUE TABLE EXAMPLE**\n",
        "\n",
        "<table ><tr><th >ID<th><th> ANIMAL <th><th> QUANTITY<th><th> COST<th><th> RESCUEDATE<tr><tr>\n",
        "<tr><td> 1 <td><td> Cat<td><td> 9<td><td> 450.09 <td><td> 2018-05-29 <td><tr><table>\n",
        "\n",
        "\n"
      ],
      "metadata": {
        "id": "kyyk8sQw-xkP"
      }
    },
    {
      "cell_type": "markdown",
      "source": [
        "* Query C1: Enter a function that displays the day of the month when cats have been rescued.\n",
        "\n",
        "* Sorgu C1: Kedilerin kurtarıldığı ayın gününü gösteren bir işlev girin.\n",
        "\n",
        "\n",
        "```\n",
        "SELECT DAY(PETRESCUEDATE) FROM PETRESCUE WHERE ANIMAL = 'Cat';\n",
        "```\n",
        "\n",
        "\n"
      ],
      "metadata": {
        "id": "pMZg5XEh6gLp"
      }
    },
    {
      "cell_type": "markdown",
      "source": [
        "* Query C2: Enter a function that displays the number of rescues on the 5th month.\n",
        "* Sorgu C2: 5. aydaki kurtarma sayısını gösteren bir fonksiyon girin .\n",
        "\n",
        "\n",
        "```\n",
        "SELECT SUM(QUANTITY) FROM PETRESCUE WHERE MONTH(RESCUEDATE) = '05';\n",
        "```\n",
        "\n",
        "\n"
      ],
      "metadata": {
        "id": "Velivse-6gNL"
      }
    },
    {
      "cell_type": "markdown",
      "source": [
        "* Query C3: Enter a function that displays the number of rescues on the 14th day of the month.\n",
        "* Sorgu C3: Ayın 14. gününde kurtarma sayısını gösteren bir fonksiyon girin .\n",
        "\n",
        "\n",
        "\n",
        "```\n",
        "SELECT SUM(QUANTITY) FROM PETRESCUE WHERE DAY(RESCUEDATE) = '14';\n",
        "```\n",
        "\n",
        "\n"
      ],
      "metadata": {
        "id": "N5XJvTuK-KW-"
      }
    },
    {
      "cell_type": "markdown",
      "source": [
        "* Query C4: Animals rescued should see the vet within three days of arrivals. Enter a function that displays the third day from each rescue.\n",
        "* Sorgu C4: Kurtarılan hayvanlar, geldiklerinden sonraki üç gün içinde veterinere görünmelidir. Her kurtarmadan sonraki üçüncü günü görüntüleyen bir işlev girin.\n",
        "\n",
        "\n",
        "\n",
        "```\n",
        "SELECT DAY(RESCUEDATE + 3 DAYS) FROM PETRESCUE;\n",
        "```\n",
        "\n",
        "\n"
      ],
      "metadata": {
        "id": "R_lv5DN4-KZR"
      }
    },
    {
      "cell_type": "markdown",
      "source": [
        "* Query C5: Enter a function that displays the length of time the animals have been rescued; the difference between today’s date and the rescue date.\n",
        "* Sorgu C5: Hayvanların kurtarıldığı süreyi gösteren bir işlev girin; bugünün tarihi ile kurtarma tarihi arasındaki fark.\n",
        "\n",
        "\n",
        "\n",
        "```\n",
        "SELECT (CURRENT_DATE-RESCUEDATE) FROM PETRESCUE;\n",
        "```\n",
        "\n"
      ],
      "metadata": {
        "id": "QweAop4u-Kbv"
      }
    },
    {
      "cell_type": "markdown",
      "source": [
        "# Sub-Queries and Nested Selects(12/17/2022)"
      ],
      "metadata": {
        "id": "s9b5ikf7-KgS"
      }
    },
    {
      "cell_type": "markdown",
      "source": [
        "**EMPLOYEES**\n",
        "\n",
        "<table ><tr><th >EMP_ID<th><th> F_NAME <th><th> L_NAME<th><th> SSN<th><th> B_DATE<th><th> SEX<th><th> ADDRESS<th><th> JOB_ID<th><th> SALARY<th><th> MANAGER_ID<th><th> DEP_ID<tr><tr>\n",
        "<tr><td> E1001 <td><td> John<td><td> Thomas<td><td> 123456<td><td> 1976-01-09<td><td> M<td><td> 5631 Rice,OakPark,JL<td><td> 100<td><td> 100000<td><td> 30001 <td><td>2<td><tr><table>\n",
        "\n",
        "\n"
      ],
      "metadata": {
        "id": "oZKtnz324QQo"
      }
    },
    {
      "cell_type": "markdown",
      "source": [
        "* Execute a failing query (i.e. one which gives an error) to retrieve all employees records whose salary is lower than the average salary.\n",
        "* Maaşı ortalama maaştan düşük olan tüm çalışanların kayıtlarını almak için başarısız bir sorgu (yani hata veren) yürütün.\n",
        "\n",
        "\n",
        "\n",
        "```\n",
        "SELECT * FROM EMPLOYEES SALARY < AVG(SALARY);\n",
        "```\n",
        "\n",
        "\n",
        "\n"
      ],
      "metadata": {
        "id": "_d3dnrMR-Kim"
      }
    },
    {
      "cell_type": "markdown",
      "source": [
        "* Execute a working query using a sub-select to retrieve all employees records whose salary is lower than the average salary.\n",
        "\n",
        "\n",
        "\n",
        "* Maaşı ortalama maaştan düşük olan tüm çalışanların kayıtlarını almak için bir alt seçim kullanarak çalışan bir sorgu yürütün.\n",
        "\n",
        "\n",
        "\n",
        "```\n",
        "SELECT * FROM EMPLOYEES WHERE SALARY <(SELECT AVG(SALARY) FROM EMPLOYEES);\n",
        "```\n",
        "\n"
      ],
      "metadata": {
        "id": "wNd0PJyn-Kk5"
      }
    },
    {
      "cell_type": "markdown",
      "source": [
        "* Execute a failing query (i.e. one which gives an error) to retrieve all employees records with EMP_ID, SALARY and maximum salary as MAX_SALARY in every row.\n",
        "\n",
        "* Her satırda EMP_ID, SALARY ve maksimum maaşın MAX_SALARY olduğu tüm çalışan kayıtlarını almak için başarısız bir sorgu (yani hata veren) yürütün.\n",
        "\n",
        "\n",
        "\n",
        "```\n",
        "SELECT EMP_ID,SALARY,MAX(SALARY) AS MAX_SALARY FROM EMPLOYEES;\n",
        "```\n",
        "\n",
        "\n",
        "\n"
      ],
      "metadata": {
        "id": "H93s8djS-Knp"
      }
    },
    {
      "cell_type": "markdown",
      "source": [
        "* Execute a Column Expression that retrieves all employees records with EMP_ID, SALARY and maximum salary as MAX_SALARY in every row.\n",
        "* Her satırda EMP_ID, SALARY ve maksimum maaş olarak MAX_SALARY olan tüm çalışanların kayıtlarını alan bir Sütun İfadesi yürütün.\n",
        "\n",
        "\n",
        "\n",
        "```\n",
        "SELECT EMP_ID,SALARY,(SELECT MAX(SALARY) AS MAX_SALARY FROM EMPLOYEES ) FROM EMPLOYEES;\n",
        "```\n",
        "\n",
        "\n",
        "\n"
      ],
      "metadata": {
        "id": "NTlbxsx_-Kpw"
      }
    },
    {
      "cell_type": "markdown",
      "source": [
        "* Execute a Table Expression for the EMPLOYEES table that excludes columns with sensitive employee data (i.e. does not include columns: SSN, B_DATE, SEX, ADDRESS, SALARY).\n",
        "\n",
        "* ÇALIŞANLAR tablosu için, hassas çalışan verilerini içeren sütunları hariç tutan (yani, SSN, B_DATE, SEX, ADDRESS, SALARY sütunlarını içermeyen) bir Tablo İfadesi yürütün.\n",
        "\n",
        "> * FROM(BİZİM BELİRLEDİĞİMİZ KISIMDAN ÇEKİYOR VERİLERİ)\n",
        "\n",
        "```\n",
        " SELECT * FROM (EMP_ID,F_NAME,L_NAME,DEP_ID FROM EMPLOYEES) AS EMP4ALL;\n",
        "```\n",
        "\n",
        "\n"
      ],
      "metadata": {
        "id": "nsapzL_Q-KsC"
      }
    },
    {
      "cell_type": "markdown",
      "source": [
        "## Working with Multiple Tables"
      ],
      "metadata": {
        "id": "XTLFuxUT-KuQ"
      }
    },
    {
      "cell_type": "markdown",
      "source": [
        "**JOBS TABLE EXAMPLE**\n",
        "\n",
        "<table ><tr><th >JOB_IDENT<th><th> JOB_TITLE <th><th> MIN_SALARY<th><th> MAX_SALARY<tr><tr>\n",
        "<tr><td> 100 <td><td> Sr.Architect<td><td> 60000<td><td> 100000<td><tr><table>\n",
        "\n",
        "**EMPLOYEES TABLE EXAMPLE**\n",
        "\n",
        "<table ><tr><th >EMP_ID<th><th> F_NAME <th><th> L_NAME<th><th> SSN<th><th> B_DATE<th><th> SEX<th><th> ADDRESS<th><th> JOB_ID<th><th> SALARY<th><th> MANAGER_ID<th><th> DEP_ID<tr><tr>\n",
        "<tr><td> E1001 <td><td> John<td><td> Thomas<td><td> 123456<td><td> 1976-01-09<td><td> M<td><td> 5631 Rice,OakPark,JL<td><td> 100<td><td> 100000<td><td> 30001 <td><td>2<td><tr><table>\n",
        "\n",
        "\n"
      ],
      "metadata": {
        "id": "4is0E1nW5qVU"
      }
    },
    {
      "cell_type": "markdown",
      "source": [
        "**EXERCİSE-1**\n",
        "\n",
        "* Retrieve only the EMPLOYEES records that correspond to jobs in the JOBS table.\n",
        "\n",
        "* Yalnızca İŞLER tablosundaki işlere karşılık gelen ÇALIŞAN kayıtlarını alın.\n",
        "\n",
        "> * Çalışanlar içindeki elemanlardan job id si jobs tablosunda olanları listeliyoruz.\n",
        "\n",
        "```\n",
        "SELECT * FROM EMPLOYEES\n",
        "WHERE JOB_ID IN (SELECT JOB_IDENT FROM JOBS);\n",
        "```\n",
        "\n"
      ],
      "metadata": {
        "id": "89vidaxq2qHt"
      }
    },
    {
      "cell_type": "markdown",
      "source": [
        "**EXERCİSE-2**\n",
        "\n",
        "* Retrieve only the list of employees whose JOB_TITLE is Jr. Designer.\n",
        "\n",
        "* Yalnızca JOB_TITLE, Jr. Designer olan çalışanların listesini alın.\n",
        "\n",
        "> * JOBS TABLOSUNDA JR DESİGNER OLARAK ÇALIŞANLARIN ID LERİ ARASINDAN GETİR\n",
        "\n",
        "```\n",
        "SELECT * FROM EMPLOYEES\n",
        "WHERE JOB_ID IN ( SELECT JOB_IDENT FROM JOBS WHERE JOB_TITLE = 'Jr.Designer');\n",
        "```\n",
        "\n"
      ],
      "metadata": {
        "id": "gjoogNad2qPB"
      }
    },
    {
      "cell_type": "markdown",
      "source": [
        "** EXERCİSE-3**\n",
        "\n",
        "* Retrieve JOB information and who earn more than $70,000.\n",
        "\n",
        "* İŞ bilgilerini alın ve 70.000 dolardan fazla kazananlar.\n",
        "\n",
        "> * JOBS BİLGİLERİNİ GETİR NERDEN ÇALIŞANLAR TABLOSUNDAN 70000 ÜSTÜ ALAN ID LERİN İÇİNDEN SEÇ\n",
        "\n",
        "```\n",
        "SELECT * FROM JOBS\n",
        "WHERE JOB_IDENT IN (SELECT JOB_ID FROM EMPLOYEES WHERE SALARY > 70000);\n",
        "```\n",
        "\n"
      ],
      "metadata": {
        "id": "o90jT4Nf2qRs"
      }
    },
    {
      "cell_type": "markdown",
      "source": [
        "** EXERCİSE - 4**\n",
        "\n",
        "* Retrieve JOB information for female employees whose birth year is after 1976.\n",
        "\n",
        "* Doğum yılı 1976'dan sonra olan kadın çalışanlar için İŞ bilgilerini alın.\n",
        "\n",
        "\n",
        "\n",
        "```\n",
        "SELECT * FROM JOBS\n",
        "WHERE JOB_IDENT IN (SELECT JOB_ID FROM EMPLOYEES WHERE YEAR(B_DATE)>1976 AND SEX = 'F');\n",
        "```\n",
        "\n"
      ],
      "metadata": {
        "id": "0DHzR-cA2qUW"
      }
    },
    {
      "cell_type": "markdown",
      "source": [
        "## Accessing Multiple Tables with Implicit Joins\n"
      ],
      "metadata": {
        "id": "FGWZKWQj2qW8"
      }
    },
    {
      "cell_type": "markdown",
      "source": [
        "**EXERCİSE-1**\n",
        "\n",
        "* Perform an implicit cartesian/cross join between EMPLOYEES and JOBS tables.\n",
        "\n",
        "* Perform an implicit cartesian/cross join between EMPLOYEES and JOBS tables.\n",
        "\n",
        "> * İKİ TABLOYU BERABER GÖSTER\n",
        "\n",
        "```\n",
        "SELECT * FROM EMPLOYEES,JOBS;\n",
        "```\n",
        "\n"
      ],
      "metadata": {
        "id": "h5srKSiU2qZh"
      }
    },
    {
      "cell_type": "markdown",
      "source": [
        "**EXERCİSE-2**\n",
        "* Retrieve only the EMPLOYEES records that correspond to jobs in the JOBS table.\n",
        "* Yalnızca İŞLER tablosundaki işlere karşılık gelen ÇALIŞAN kayıtlarını alın.\n",
        "\n",
        "> * İKİ TABLODAN İŞ ID LERİ AYNI OLANLARI GÖSTER\n",
        "\n",
        "```\n",
        "SELECT * FROM EMPLOYEES, JOBS\n",
        "WHERE EMPLOYEES.JOB_ID = JOBS.JOB_IDENT;\n",
        "```\n",
        "YADA İSİMLERİ KISALTARAK YAZMAK İÇİN\n",
        "\n",
        "\n",
        "```\n",
        "SELECT * FROM EMPLOYEES E,JOBS J\n",
        "WHERE E.JOB_ID = J.JOB_IDENT;\n",
        "```\n",
        "\n",
        "\n",
        "\n",
        "\n",
        "\n"
      ],
      "metadata": {
        "id": "5H8E6hvN2qcI"
      }
    },
    {
      "cell_type": "markdown",
      "source": [
        "**ECERCİSE-3**\n",
        "* Redo the previous query, but retrieve only the Employee ID, Employee Name and Job Title.\n",
        "\n",
        "\n",
        "* Önceki sorguyu yeniden yapın, ancak yalnızca Çalışan Kimliği, Çalışan Adı ve İş Unvanını alın.\n",
        "\n",
        "\n",
        "\n",
        "```\n",
        "SELECT EMP_ID,F_NAME,JOB_TITLE FROM EMLOYEES E,JOBS J\n",
        "WHERE E.JOB_ID = J.JOB_IDENT;\n",
        "```\n",
        "\n"
      ],
      "metadata": {
        "id": "er2Dri6U2qeg"
      }
    },
    {
      "cell_type": "markdown",
      "source": [
        "**EXERCİSE-4**\n",
        "\n",
        "* Redo the previous query, but specify the fully qualified column names with aliases in the SELECT clause.\n",
        "\n",
        "* Önceki sorguyu yeniden yapın, ancak SELECT yan tümcesinde tam nitelikli sütun adlarını takma adlarla belirtin.\n",
        "\n",
        "\n",
        "\n",
        "\n",
        "```\n",
        "SELECT E.EMP_ID,E.F_NAME,J.JOB_TITLE FROM EMPLOYEES E,JOBS J\n",
        "WHERE E.JOB_ID = J.JOB_IDENT;\n",
        "```\n",
        "\n",
        "\n"
      ],
      "metadata": {
        "id": "ttZumDM9F9x3"
      }
    },
    {
      "cell_type": "code",
      "source": [],
      "metadata": {
        "id": "UiMp3ZGNF9zJ"
      },
      "execution_count": null,
      "outputs": []
    },
    {
      "cell_type": "code",
      "source": [],
      "metadata": {
        "id": "v8TXkiV2F90r"
      },
      "execution_count": null,
      "outputs": []
    },
    {
      "cell_type": "code",
      "source": [],
      "metadata": {
        "id": "nw7uJr89F94F"
      },
      "execution_count": null,
      "outputs": []
    }
  ]
}