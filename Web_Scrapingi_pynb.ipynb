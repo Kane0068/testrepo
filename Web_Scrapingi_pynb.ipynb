{
  "nbformat": 4,
  "nbformat_minor": 0,
  "metadata": {
    "colab": {
      "provenance": [],
      "authorship_tag": "ABX9TyMOIVat13uMw/S/E1yIjGrn",
      "include_colab_link": true
    },
    "kernelspec": {
      "name": "python3",
      "display_name": "Python 3"
    },
    "language_info": {
      "name": "python"
    }
  },
  "cells": [
    {
      "cell_type": "markdown",
      "metadata": {
        "id": "view-in-github",
        "colab_type": "text"
      },
      "source": [
        "<a href=\"https://colab.research.google.com/github/Kane0068/testrepo/blob/main/Web_Scrapingi_pynb.ipynb\" target=\"_parent\"><img src=\"https://colab.research.google.com/assets/colab-badge.svg\" alt=\"Open In Colab\"/></a>"
      ]
    },
    {
      "cell_type": "markdown",
      "source": [
        "# Web Scraping"
      ],
      "metadata": {
        "id": "8xnkPHiMT2m9"
      }
    },
    {
      "cell_type": "code",
      "source": [
        "!mamba install bs4==4.10.0 -y\n",
        "!pip install lxml==4.6.4\n",
        "!mamba install html5lib==1.1 -y\n",
        "# !pip install requests==2.26.0"
      ],
      "metadata": {
        "colab": {
          "base_uri": "https://localhost:8080/"
        },
        "id": "pDrnsIQZT5GM",
        "outputId": "e9521afa-1cc3-4815-bc9d-508620686e1a"
      },
      "execution_count": null,
      "outputs": [
        {
          "output_type": "stream",
          "name": "stdout",
          "text": [
            "/bin/bash: mamba: command not found\n",
            "Looking in indexes: https://pypi.org/simple, https://us-python.pkg.dev/colab-wheels/public/simple/\n",
            "Collecting lxml==4.6.4\n",
            "  Downloading lxml-4.6.4-cp38-cp38-manylinux_2_17_x86_64.manylinux2014_x86_64.manylinux_2_24_x86_64.whl (6.9 MB)\n",
            "\u001b[K     |████████████████████████████████| 6.9 MB 5.1 MB/s \n",
            "\u001b[?25hInstalling collected packages: lxml\n",
            "  Attempting uninstall: lxml\n",
            "    Found existing installation: lxml 4.9.2\n",
            "    Uninstalling lxml-4.9.2:\n",
            "      Successfully uninstalled lxml-4.9.2\n",
            "Successfully installed lxml-4.6.4\n",
            "/bin/bash: mamba: command not found\n"
          ]
        }
      ]
    },
    {
      "cell_type": "markdown",
      "source": [
        "## 1 - İMPORTİNG LİBRARİES"
      ],
      "metadata": {
        "id": "rK0Vz6hHT5I2"
      }
    },
    {
      "cell_type": "code",
      "source": [
        "from bs4 import BeautifulSoup # this module helps in web scrapping.\n",
        "import requests  # this module helps us to download a web page"
      ],
      "metadata": {
        "id": "JZBXmYlbT5LK"
      },
      "execution_count": null,
      "outputs": []
    },
    {
      "cell_type": "code",
      "source": [
        "# Kullancağımız HTML \n",
        "\n",
        "%%html\n",
        "<!DOCTYPE html>\n",
        "<html>\n",
        "<head>\n",
        "<title>Page Title</title>\n",
        "</head>\n",
        "<body>\n",
        "<h3><b id='boldest'>Lebron James</b></h3>\n",
        "<p> Salary: $ 92,000,000 </p>\n",
        "<h3> Stephen Curry</h3>\n",
        "<p> Salary: $85,000, 000 </p>\n",
        "<h3> Kevin Durant </h3>\n",
        "<p> Salary: $73,200, 000</p>\n",
        "</body>\n",
        "</html>"
      ],
      "metadata": {
        "colab": {
          "base_uri": "https://localhost:8080/",
          "height": 203
        },
        "id": "1CWCbT3qT5NY",
        "outputId": "2a0ac710-8920-4edf-8c01-c0b782ea7d72"
      },
      "execution_count": null,
      "outputs": [
        {
          "output_type": "display_data",
          "data": {
            "text/plain": [
              "<IPython.core.display.HTML object>"
            ],
            "text/html": [
              "<!DOCTYPE html>\n",
              "<html>\n",
              "<head>\n",
              "<title>Page Title</title>\n",
              "</head>\n",
              "<body>\n",
              "<h3><b id='boldest'>Lebron James</b></h3>\n",
              "<p> Salary: $ 92,000,000 </p>\n",
              "<h3> Stephen Curry</h3>\n",
              "<p> Salary: $85,000, 000 </p>\n",
              "<h3> Kevin Durant </h3>\n",
              "<p> Salary: $73,200, 000</p>\n",
              "</body>\n",
              "</html>\n"
            ]
          },
          "metadata": {}
        }
      ]
    },
    {
      "cell_type": "code",
      "source": [
        "html=\"<!DOCTYPE html><html><head><title>Page Title</title></head><body><h3><b id='boldest'>Lebron James</b></h3><p> Salary: $ 92,000,000 </p><h3> Stephen Curry</h3><p> Salary: $85,000, 000 </p><h3> Kevin Durant </h3><p> Salary: $73,200, 000</p></body></html>\""
      ],
      "metadata": {
        "id": "QWovSixNT5P0"
      },
      "execution_count": null,
      "outputs": []
    },
    {
      "cell_type": "markdown",
      "source": [
        "Bir belgeyi ayrıştırmak için onu, belgeyi iç içe geçmiş bir veri yapısı olarak temsil eden BeautifulSoup nesnesi olan BeautifulSoup yapıcısına iletin:"
      ],
      "metadata": {
        "id": "8slVskhBT5SJ"
      }
    },
    {
      "cell_type": "code",
      "source": [
        "soup = BeautifulSoup(html,'html.parser')"
      ],
      "metadata": {
        "id": "GHoFbSeYT5Ul"
      },
      "execution_count": null,
      "outputs": []
    },
    {
      "cell_type": "markdown",
      "source": [
        "İlk olarak, belge Unicode'a (ASCII'ye benzer) dönüştürülür ve HTML varlıkları Unicode karakterlere dönüştürülür. Güzel Çorba, karmaşık bir HTML belgesini karmaşık bir Python nesneleri ağacına dönüştürür. BeautifulSoup nesnesi başka türde nesneler oluşturabilir. Bu laboratuvarda, bu laboratuvarın amaçları açısından aynı olan BeautifulSoup ve Tag nesnelerini ve NavigableString nesnelerini ele alacağız."
      ],
      "metadata": {
        "id": "VvzAV6ATT5Wx"
      }
    },
    {
      "cell_type": "markdown",
      "source": [
        "HTML'yi iç içe yapı içinde görüntülemek için prettify() yöntemini kullanabiliriz:"
      ],
      "metadata": {
        "id": "XTk76Qu3T5ZM"
      }
    },
    {
      "cell_type": "code",
      "source": [
        "print(soup.prettify())"
      ],
      "metadata": {
        "colab": {
          "base_uri": "https://localhost:8080/"
        },
        "id": "cGVGAV6VT5bj",
        "outputId": "48bfb6d1-544f-4072-bc44-38bef9298bb4"
      },
      "execution_count": null,
      "outputs": [
        {
          "output_type": "stream",
          "name": "stdout",
          "text": [
            "<!DOCTYPE html>\n",
            "<html>\n",
            " <head>\n",
            "  <title>\n",
            "   Page Title\n",
            "  </title>\n",
            " </head>\n",
            " <body>\n",
            "  <h3>\n",
            "   <b id=\"boldest\">\n",
            "    Lebron James\n",
            "   </b>\n",
            "  </h3>\n",
            "  <p>\n",
            "   Salary: $ 92,000,000\n",
            "  </p>\n",
            "  <h3>\n",
            "   Stephen Curry\n",
            "  </h3>\n",
            "  <p>\n",
            "   Salary: $85,000, 000\n",
            "  </p>\n",
            "  <h3>\n",
            "   Kevin Durant\n",
            "  </h3>\n",
            "  <p>\n",
            "   Salary: $73,200, 000\n",
            "  </p>\n",
            " </body>\n",
            "</html>\n"
          ]
        }
      ]
    },
    {
      "cell_type": "markdown",
      "source": [
        "* Tags\n",
        "> * Let's say we want the title of the page and the name of the top paid player we can use the Tag. The Tag object corresponds to an HTML tag in the original document, for example, the tag title.\n",
        "\n"
      ],
      "metadata": {
        "id": "X4SbXDhoVpFL"
      }
    },
    {
      "cell_type": "code",
      "source": [
        "tag_object = soup.title\n",
        "print('tag object :' , tag_object)"
      ],
      "metadata": {
        "colab": {
          "base_uri": "https://localhost:8080/"
        },
        "id": "PXOryccgVpHt",
        "outputId": "a329fa4b-49a2-4935-d7fb-07bbc992d8c3"
      },
      "execution_count": null,
      "outputs": [
        {
          "output_type": "stream",
          "name": "stdout",
          "text": [
            "tag object : <title>Page Title</title>\n"
          ]
        }
      ]
    },
    {
      "cell_type": "markdown",
      "source": [
        "bs4.element.Tag etiket türünü görebiliriz"
      ],
      "metadata": {
        "id": "_b0F-hv-VpKq"
      }
    },
    {
      "cell_type": "code",
      "source": [
        "print(\"tag object type:\",type(tag_object))"
      ],
      "metadata": {
        "colab": {
          "base_uri": "https://localhost:8080/"
        },
        "id": "_0xwk47nVpNN",
        "outputId": "80443c17-ce9b-4a76-d48d-2f63f944ce0d"
      },
      "execution_count": null,
      "outputs": [
        {
          "output_type": "stream",
          "name": "stdout",
          "text": [
            "tag object type: <class 'bs4.element.Tag'>\n"
          ]
        }
      ]
    },
    {
      "cell_type": "markdown",
      "source": [
        "Aynı ada sahip birden fazla Tag varsa, o Tag adına sahip ilk eleman çağrılır, bu en çok ödenen oyuncuya karşılık gelir:"
      ],
      "metadata": {
        "id": "jTcNpFAvVpPq"
      }
    },
    {
      "cell_type": "code",
      "source": [
        "tag_object = soup.h3\n",
        "tag_object"
      ],
      "metadata": {
        "colab": {
          "base_uri": "https://localhost:8080/"
        },
        "id": "o5fREgaIXWx4",
        "outputId": "6bc01c2f-c54b-4177-b418-9113262aa236"
      },
      "execution_count": null,
      "outputs": [
        {
          "output_type": "execute_result",
          "data": {
            "text/plain": [
              "<h3><b id=\"boldest\">Lebron James</b></h3>"
            ]
          },
          "metadata": {},
          "execution_count": 12
        }
      ]
    },
    {
      "cell_type": "markdown",
      "source": [
        "Kalın öznitelik b içinde yer alan, ağaç temsilinin kullanılmasına yardımcı olur. Adı almak için alt özniteliği kullanarak ağaçta aşağı doğru gidebiliriz."
      ],
      "metadata": {
        "id": "4myTV4YbXW0a"
      }
    },
    {
      "cell_type": "markdown",
      "source": [
        "Çocuklar, Ebeveynler ve Kardeşler\n",
        "Yukarıda belirtildiği gibi, Etiket nesnesi bir nesne ağacıdır, etiketin alt öğesine erişebilir veya dalda aşağıdaki şekilde gezinebiliriz:"
      ],
      "metadata": {
        "id": "3aome7UPXW3R"
      }
    },
    {
      "cell_type": "code",
      "source": [
        "tag_child = tag_object.b\n",
        "tag_child"
      ],
      "metadata": {
        "colab": {
          "base_uri": "https://localhost:8080/"
        },
        "id": "KR0ZTTy0XW5r",
        "outputId": "6b6c9bea-9f71-4dff-f592-b962ac91b168"
      },
      "execution_count": null,
      "outputs": [
        {
          "output_type": "execute_result",
          "data": {
            "text/plain": [
              "<b id=\"boldest\">Lebron James</b>"
            ]
          },
          "metadata": {},
          "execution_count": 14
        }
      ]
    },
    {
      "cell_type": "markdown",
      "source": [
        "You can access the parent with the  parent"
      ],
      "metadata": {
        "id": "2sXxvEFeePW2"
      }
    },
    {
      "cell_type": "code",
      "source": [
        "parent_tag = tag_child.parent\n",
        "parent_tag"
      ],
      "metadata": {
        "colab": {
          "base_uri": "https://localhost:8080/"
        },
        "id": "O02hFEsPeQQ7",
        "outputId": "169e180c-3eba-40bb-854a-f4c47274c9f9"
      },
      "execution_count": null,
      "outputs": [
        {
          "output_type": "execute_result",
          "data": {
            "text/plain": [
              "<h3><b id=\"boldest\">Lebron James</b></h3>"
            ]
          },
          "metadata": {},
          "execution_count": 15
        }
      ]
    },
    {
      "cell_type": "markdown",
      "source": [
        "this is identical to"
      ],
      "metadata": {
        "id": "IohAhctHeQTX"
      }
    },
    {
      "cell_type": "code",
      "source": [
        "tag_object"
      ],
      "metadata": {
        "colab": {
          "base_uri": "https://localhost:8080/"
        },
        "id": "vOg6oIVpeQVw",
        "outputId": "5c38fcfe-b9ef-4602-f208-cf75315cb4c1"
      },
      "execution_count": null,
      "outputs": [
        {
          "output_type": "execute_result",
          "data": {
            "text/plain": [
              "<h3><b id=\"boldest\">Lebron James</b></h3>"
            ]
          },
          "metadata": {},
          "execution_count": 16
        }
      ]
    },
    {
      "cell_type": "markdown",
      "source": [
        "tag_object parent is the body element."
      ],
      "metadata": {
        "id": "VG1FQPyueQYJ"
      }
    },
    {
      "cell_type": "code",
      "source": [
        "tag_object.parent"
      ],
      "metadata": {
        "colab": {
          "base_uri": "https://localhost:8080/"
        },
        "id": "PMvJxQkjeQac",
        "outputId": "b8341627-402f-4556-bb65-221702ece71a"
      },
      "execution_count": null,
      "outputs": [
        {
          "output_type": "execute_result",
          "data": {
            "text/plain": [
              "<body><h3><b id=\"boldest\">Lebron James</b></h3><p> Salary: $ 92,000,000 </p><h3> Stephen Curry</h3><p> Salary: $85,000, 000 </p><h3> Kevin Durant </h3><p> Salary: $73,200, 000</p></body>"
            ]
          },
          "metadata": {},
          "execution_count": 17
        }
      ]
    },
    {
      "cell_type": "markdown",
      "source": [
        "tag_object sibling is the paragraph element"
      ],
      "metadata": {
        "id": "8CKovjp_ehQe"
      }
    },
    {
      "cell_type": "code",
      "source": [
        "sibling_1 = tag_object.next_sibling\n",
        "sibling_1"
      ],
      "metadata": {
        "colab": {
          "base_uri": "https://localhost:8080/"
        },
        "id": "OjzMar-aehXU",
        "outputId": "1ed7932b-573f-47d6-e5a0-9ac8d33bd789"
      },
      "execution_count": null,
      "outputs": [
        {
          "output_type": "execute_result",
          "data": {
            "text/plain": [
              "<p> Salary: $ 92,000,000 </p>"
            ]
          },
          "metadata": {},
          "execution_count": 19
        }
      ]
    },
    {
      "cell_type": "markdown",
      "source": [
        "sibling_2 is the header element which is also a sibling of both sibling_1 and tag_object"
      ],
      "metadata": {
        "id": "Dry9pLm4ehaQ"
      }
    },
    {
      "cell_type": "code",
      "source": [
        "sibling_2 = sibling_1.next_sibling\n",
        "sibling_2"
      ],
      "metadata": {
        "colab": {
          "base_uri": "https://localhost:8080/"
        },
        "id": "Cl7gcj1Behcz",
        "outputId": "946991d0-018a-4b02-d9d4-2d70c8657673"
      },
      "execution_count": null,
      "outputs": [
        {
          "output_type": "execute_result",
          "data": {
            "text/plain": [
              "<h3> Stephen Curry</h3>"
            ]
          },
          "metadata": {},
          "execution_count": 21
        }
      ]
    },
    {
      "cell_type": "markdown",
      "source": [
        "## Exercise: next_sibling"
      ],
      "metadata": {
        "id": "ImjsP9rZehfI"
      }
    },
    {
      "cell_type": "markdown",
      "source": [
        "* Using the object sibling_2 and the property next_sibling to find the salary of Stephen Curry:\n",
        "\n",
        "* Stephen Curry'nin maaşını bulmak için sibling_2 nesnesini ve next_sibling özelliğini kullanarak:"
      ],
      "metadata": {
        "id": "turkGIpyehhe"
      }
    },
    {
      "cell_type": "code",
      "source": [
        "sibling_3= sibling_2.next_sibling\n",
        "sibling_3"
      ],
      "metadata": {
        "colab": {
          "base_uri": "https://localhost:8080/"
        },
        "id": "cAiUX3R6ehjo",
        "outputId": "a6aa56ed-b527-4bf2-d35d-c0bcf8b53ce2"
      },
      "execution_count": null,
      "outputs": [
        {
          "output_type": "execute_result",
          "data": {
            "text/plain": [
              "<p> Salary: $85,000, 000 </p>"
            ]
          },
          "metadata": {},
          "execution_count": 23
        }
      ]
    },
    {
      "cell_type": "markdown",
      "source": [
        "*  HTML Attributes\n",
        " > * If the tag has attributes, the tag id=\"boldest\" has an attribute id whose value is boldest. You can access a tag’s attributes by treating the tag like a dictionary:\n",
        " > * HTML Nitelikleri\n",
        "Etiketin nitelikleri varsa, id=\"boldest\" etiketi, değeri en kalın olan bir öznitelik kimliğine sahiptir. Etikete bir sözlük gibi davranarak bir etiketin özelliklerine erişebilirsiniz:"
      ],
      "metadata": {
        "id": "ZB1Nm3F6fSPh"
      }
    },
    {
      "cell_type": "code",
      "source": [
        "tag_child['id']"
      ],
      "metadata": {
        "colab": {
          "base_uri": "https://localhost:8080/",
          "height": 35
        },
        "id": "oKAZeV-sfSR7",
        "outputId": "e3f9ddcf-f097-4678-a175-b4297cc818c3"
      },
      "execution_count": null,
      "outputs": [
        {
          "output_type": "execute_result",
          "data": {
            "text/plain": [
              "'boldest'"
            ],
            "application/vnd.google.colaboratory.intrinsic+json": {
              "type": "string"
            }
          },
          "metadata": {},
          "execution_count": 24
        }
      ]
    },
    {
      "cell_type": "code",
      "source": [
        "tag_child.attrs"
      ],
      "metadata": {
        "colab": {
          "base_uri": "https://localhost:8080/"
        },
        "id": "YuVTjdaWfjEF",
        "outputId": "f28531a1-05ba-49ee-9dea-e651b24669af"
      },
      "execution_count": null,
      "outputs": [
        {
          "output_type": "execute_result",
          "data": {
            "text/plain": [
              "{'id': 'boldest'}"
            ]
          },
          "metadata": {},
          "execution_count": 26
        }
      ]
    },
    {
      "cell_type": "code",
      "source": [
        "tag_child.get('id')"
      ],
      "metadata": {
        "colab": {
          "base_uri": "https://localhost:8080/",
          "height": 35
        },
        "id": "LD2Em36wfSUZ",
        "outputId": "cc4bd2e6-b98d-44c6-f2fe-6ba2c517ced2"
      },
      "execution_count": null,
      "outputs": [
        {
          "output_type": "execute_result",
          "data": {
            "text/plain": [
              "'boldest'"
            ],
            "application/vnd.google.colaboratory.intrinsic+json": {
              "type": "string"
            }
          },
          "metadata": {},
          "execution_count": 27
        }
      ]
    },
    {
      "cell_type": "markdown",
      "source": [
        "* Navigable String\n",
        "> * A string corresponds to a bit of text or content within a tag. Beautiful Soup uses the NavigableString class to contain this text. In our HTML we can obtain the name of the first player by extracting the sting of the Tag object tag_child as follows:\n",
        "\n",
        "* gezilebilir Dize\n",
        "> * Bir dize, bir etiket içindeki bir metin veya içeriğe karşılık gelir. Güzel Çorba, bu metni içermek için NavigableString sınıfını kullanır. HTML'mizde, ilk oyuncunun adını tag_child Etiket nesnesinin girişini aşağıdaki gibi çıkararak elde edebiliriz:"
      ],
      "metadata": {
        "id": "fhyndfSLfSWk"
      }
    },
    {
      "cell_type": "code",
      "source": [
        "tag_string = tag_child.string\n",
        "tag_string"
      ],
      "metadata": {
        "colab": {
          "base_uri": "https://localhost:8080/",
          "height": 35
        },
        "id": "_w8QsWV4fSY3",
        "outputId": "704b0739-a66f-48e9-8ad6-d8bcf242348a"
      },
      "execution_count": null,
      "outputs": [
        {
          "output_type": "execute_result",
          "data": {
            "text/plain": [
              "'Lebron James'"
            ],
            "application/vnd.google.colaboratory.intrinsic+json": {
              "type": "string"
            }
          },
          "metadata": {},
          "execution_count": 28
        }
      ]
    },
    {
      "cell_type": "code",
      "source": [
        "type(tag_string)"
      ],
      "metadata": {
        "colab": {
          "base_uri": "https://localhost:8080/"
        },
        "id": "BymQSe9UfSbT",
        "outputId": "2caaeef8-6432-40db-9231-9a88eb35c796"
      },
      "execution_count": null,
      "outputs": [
        {
          "output_type": "execute_result",
          "data": {
            "text/plain": [
              "bs4.element.NavigableString"
            ]
          },
          "metadata": {},
          "execution_count": 29
        }
      ]
    },
    {
      "cell_type": "code",
      "source": [
        "unicode_string = str(tag_string)\n",
        "unicode_string"
      ],
      "metadata": {
        "colab": {
          "base_uri": "https://localhost:8080/",
          "height": 35
        },
        "id": "v1_LVl6lgP6z",
        "outputId": "dffde123-e9d4-4478-c95c-d791fe3024a8"
      },
      "execution_count": null,
      "outputs": [
        {
          "output_type": "execute_result",
          "data": {
            "text/plain": [
              "'Lebron James'"
            ],
            "application/vnd.google.colaboratory.intrinsic+json": {
              "type": "string"
            }
          },
          "metadata": {},
          "execution_count": 30
        }
      ]
    },
    {
      "cell_type": "markdown",
      "source": [
        "## Filter\n",
        "* Filters allow you to find complex patterns, the simplest filter is a string. In this section we will pass a string to a different filter method and Beautiful Soup will perform a match against that exact string. Consider the following HTML of rocket launchs:\n",
        "\n",
        "* filtre\n",
        "Filtreler, karmaşık kalıpları bulmanızı sağlar, en basit filtre bir dizedir. Bu bölümde farklı bir filtre yöntemine bir string geçireceğiz ve Beautiful Soup tam olarak bu string ile eşleştirme yapacak. Aşağıdaki roket fırlatma HTML'sini göz önünde bulundurun:"
      ],
      "metadata": {
        "id": "PU5jIP6QgP9O"
      }
    },
    {
      "cell_type": "code",
      "source": [
        "%%html\n",
        "<table>\n",
        "  <tr>\n",
        "    <td id='flight' >Flight No</td>\n",
        "    <td>Launch site</td> \n",
        "    <td>Payload mass</td>\n",
        "   </tr>\n",
        "  <tr> \n",
        "    <td>1</td>\n",
        "    <td><a href='https://en.wikipedia.org/wiki/Florida'>Florida</a></td>\n",
        "    <td>300 kg</td>\n",
        "  </tr>\n",
        "  <tr>\n",
        "    <td>2</td>\n",
        "    <td><a href='https://en.wikipedia.org/wiki/Texas'>Texas</a></td>\n",
        "    <td>94 kg</td>\n",
        "  </tr>\n",
        "  <tr>\n",
        "    <td>3</td>\n",
        "    <td><a href='https://en.wikipedia.org/wiki/Florida'>Florida<a> </td>\n",
        "    <td>80 kg</td>\n",
        "  </tr>\n",
        "</table>"
      ],
      "metadata": {
        "colab": {
          "base_uri": "https://localhost:8080/",
          "height": 104
        },
        "id": "Bdtxc9rhgP_v",
        "outputId": "903e0dd5-fe48-427d-daf2-c5842f6605f4"
      },
      "execution_count": null,
      "outputs": [
        {
          "output_type": "display_data",
          "data": {
            "text/plain": [
              "<IPython.core.display.HTML object>"
            ],
            "text/html": [
              "<table>\n",
              "  <tr>\n",
              "    <td id='flight' >Flight No</td>\n",
              "    <td>Launch site</td> \n",
              "    <td>Payload mass</td>\n",
              "   </tr>\n",
              "  <tr> \n",
              "    <td>1</td>\n",
              "    <td><a href='https://en.wikipedia.org/wiki/Florida'>Florida</a></td>\n",
              "    <td>300 kg</td>\n",
              "  </tr>\n",
              "  <tr>\n",
              "    <td>2</td>\n",
              "    <td><a href='https://en.wikipedia.org/wiki/Texas'>Texas</a></td>\n",
              "    <td>94 kg</td>\n",
              "  </tr>\n",
              "  <tr>\n",
              "    <td>3</td>\n",
              "    <td><a href='https://en.wikipedia.org/wiki/Florida'>Florida<a> </td>\n",
              "    <td>80 kg</td>\n",
              "  </tr>\n",
              "</table>\n"
            ]
          },
          "metadata": {}
        }
      ]
    },
    {
      "cell_type": "code",
      "source": [
        "table=\"<table><tr><td id='flight'>Flight No</td><td>Launch site</td> <td>Payload mass</td></tr><tr> <td>1</td><td><a href='https://en.wikipedia.org/wiki/Florida'>Florida<a></td><td>300 kg</td></tr><tr><td>2</td><td><a href='https://en.wikipedia.org/wiki/Texas'>Texas</a></td><td>94 kg</td></tr><tr><td>3</td><td><a href='https://en.wikipedia.org/wiki/Florida'>Florida<a> </td><td>80 kg</td></tr></table>\""
      ],
      "metadata": {
        "id": "irbV7CKvgQCE"
      },
      "execution_count": null,
      "outputs": []
    },
    {
      "cell_type": "code",
      "source": [
        "table_bs = BeautifulSoup(table,'html.parser')"
      ],
      "metadata": {
        "id": "5dTWA1svgQEa"
      },
      "execution_count": null,
      "outputs": []
    },
    {
      "cell_type": "markdown",
      "source": [
        "* find All\n",
        "> * The find_all() method looks through a tag’s descendants and retrieves all descendants that match your filters.\n",
        "\n",
        "* The Method signature for find_all(name, attrs, recursive, string, limit, **kwargs)\n",
        "\n",
        "* Name\n",
        "> * When we set the name parameter to a tag name, the method will extract all the tags with that name and its children.\n",
        "\n",
        "* hepsini bul\n",
        "> * find_all() yöntemi, bir etiketin alt öğelerini inceler ve filtrelerinizle eşleşen tüm alt öğeleri alır.\n",
        "\n",
        "* find_all(name, attrs, recursive, string, limit, **kwargs) için Yöntem imzası\n",
        "\n",
        "* İsim\n",
        "> * name parametresini bir etiket adına ayarladığımızda, yöntem o ada sahip tüm etiketleri ve alt öğelerini çıkaracaktır."
      ],
      "metadata": {
        "id": "7Yt-UWl-gQGw"
      }
    },
    {
      "cell_type": "code",
      "source": [
        "table_rows = table_bs.find_all('tr')\n",
        "table_rows"
      ],
      "metadata": {
        "colab": {
          "base_uri": "https://localhost:8080/"
        },
        "id": "Rz4nzGF9gQJN",
        "outputId": "f3381023-9e82-458c-d2c4-af2f2b29a283"
      },
      "execution_count": null,
      "outputs": [
        {
          "output_type": "execute_result",
          "data": {
            "text/plain": [
              "[<tr><td id=\"flight\">Flight No</td><td>Launch site</td> <td>Payload mass</td></tr>,\n",
              " <tr> <td>1</td><td><a href=\"https://en.wikipedia.org/wiki/Florida\">Florida<a></a></a></td><td>300 kg</td></tr>,\n",
              " <tr><td>2</td><td><a href=\"https://en.wikipedia.org/wiki/Texas\">Texas</a></td><td>94 kg</td></tr>,\n",
              " <tr><td>3</td><td><a href=\"https://en.wikipedia.org/wiki/Florida\">Florida<a> </a></a></td><td>80 kg</td></tr>]"
            ]
          },
          "metadata": {},
          "execution_count": 35
        }
      ]
    },
    {
      "cell_type": "code",
      "source": [
        "first_row = table_rows[0]\n",
        "first_row"
      ],
      "metadata": {
        "colab": {
          "base_uri": "https://localhost:8080/"
        },
        "id": "Dgi2okB-hf44",
        "outputId": "7e6098ce-7f74-466c-f831-507424dc8275"
      },
      "execution_count": null,
      "outputs": [
        {
          "output_type": "execute_result",
          "data": {
            "text/plain": [
              "<tr><td id=\"flight\">Flight No</td><td>Launch site</td> <td>Payload mass</td></tr>"
            ]
          },
          "metadata": {},
          "execution_count": 36
        }
      ]
    },
    {
      "cell_type": "code",
      "source": [
        "print(type(first_row))"
      ],
      "metadata": {
        "colab": {
          "base_uri": "https://localhost:8080/"
        },
        "id": "b47RaY57hrCF",
        "outputId": "a73c3733-cf6d-4fa4-ce17-927e0f5980d9"
      },
      "execution_count": null,
      "outputs": [
        {
          "output_type": "stream",
          "name": "stdout",
          "text": [
            "<class 'bs4.element.Tag'>\n"
          ]
        }
      ]
    },
    {
      "cell_type": "code",
      "source": [
        "first_row.td"
      ],
      "metadata": {
        "colab": {
          "base_uri": "https://localhost:8080/"
        },
        "id": "OV_hBpm9ht24",
        "outputId": "40561891-0da4-40d9-cbe3-9cca43aa2c65"
      },
      "execution_count": null,
      "outputs": [
        {
          "output_type": "execute_result",
          "data": {
            "text/plain": [
              "<td id=\"flight\">Flight No</td>"
            ]
          },
          "metadata": {},
          "execution_count": 38
        }
      ]
    },
    {
      "cell_type": "code",
      "source": [
        "for i,row in enumerate(table_rows):\n",
        "  print('row : ' , 1,'is' ,row)"
      ],
      "metadata": {
        "colab": {
          "base_uri": "https://localhost:8080/"
        },
        "id": "zou9U3Lyht5E",
        "outputId": "b29fd7bf-12bb-4d41-a8c1-bcf1b45dfef1"
      },
      "execution_count": null,
      "outputs": [
        {
          "output_type": "stream",
          "name": "stdout",
          "text": [
            "row :  1 is <tr><td id=\"flight\">Flight No</td><td>Launch site</td> <td>Payload mass</td></tr>\n",
            "row :  1 is <tr> <td>1</td><td><a href=\"https://en.wikipedia.org/wiki/Florida\">Florida<a></a></a></td><td>300 kg</td></tr>\n",
            "row :  1 is <tr><td>2</td><td><a href=\"https://en.wikipedia.org/wiki/Texas\">Texas</a></td><td>94 kg</td></tr>\n",
            "row :  1 is <tr><td>3</td><td><a href=\"https://en.wikipedia.org/wiki/Florida\">Florida<a> </a></a></td><td>80 kg</td></tr>\n"
          ]
        }
      ]
    },
    {
      "cell_type": "markdown",
      "source": [
        "Satır bir hücre nesnesi olduğundan, ona find_all yöntemini uygulayabilir ve td etiketini kullanarak nesne hücrelerindeki tablo hücrelerini çıkartabiliriz, bu, td adlı tüm çocuklardır. Sonuç bir listedir, her öğe bir hücreye karşılık gelir ve bir Etiket nesnesidir, bu listeyi de yineleyebiliriz. String özniteliğini kullanarak içeriği çıkarabiliriz."
      ],
      "metadata": {
        "id": "k_-kRAtNht7s"
      }
    },
    {
      "cell_type": "code",
      "source": [
        "for i , row in enumerate(table_rows):\n",
        "  print('Row',i)\n",
        "  cells = row.find_all('td')\n",
        "  for j,cell in enumerate(cells):\n",
        "    print('Column' , j,'cell',cell)"
      ],
      "metadata": {
        "colab": {
          "base_uri": "https://localhost:8080/"
        },
        "id": "RX27_E13ht-G",
        "outputId": "742d97fa-bf85-4bdc-f075-342730c89ecb"
      },
      "execution_count": null,
      "outputs": [
        {
          "output_type": "stream",
          "name": "stdout",
          "text": [
            "Row 0\n",
            "Column 0 cell <td id=\"flight\">Flight No</td>\n",
            "Column 1 cell <td>Launch site</td>\n",
            "Column 2 cell <td>Payload mass</td>\n",
            "Row 1\n",
            "Column 0 cell <td>1</td>\n",
            "Column 1 cell <td><a href=\"https://en.wikipedia.org/wiki/Florida\">Florida<a></a></a></td>\n",
            "Column 2 cell <td>300 kg</td>\n",
            "Row 2\n",
            "Column 0 cell <td>2</td>\n",
            "Column 1 cell <td><a href=\"https://en.wikipedia.org/wiki/Texas\">Texas</a></td>\n",
            "Column 2 cell <td>94 kg</td>\n",
            "Row 3\n",
            "Column 0 cell <td>3</td>\n",
            "Column 1 cell <td><a href=\"https://en.wikipedia.org/wiki/Florida\">Florida<a> </a></a></td>\n",
            "Column 2 cell <td>80 kg</td>\n"
          ]
        }
      ]
    },
    {
      "cell_type": "markdown",
      "source": [
        "Bir liste kullanırsak, o listedeki herhangi bir öğeyle eşleşebiliriz."
      ],
      "metadata": {
        "id": "mjJK_JHkhuAT"
      }
    },
    {
      "cell_type": "code",
      "source": [
        "list_input = table_bs.find_all(name = ['tr','td'])\n",
        "list_input"
      ],
      "metadata": {
        "colab": {
          "base_uri": "https://localhost:8080/"
        },
        "id": "1p7oo9zNjrOH",
        "outputId": "1ea8140c-2962-490c-fcfe-892204bc2cbe"
      },
      "execution_count": null,
      "outputs": [
        {
          "output_type": "execute_result",
          "data": {
            "text/plain": [
              "[<tr><td id=\"flight\">Flight No</td><td>Launch site</td> <td>Payload mass</td></tr>,\n",
              " <td id=\"flight\">Flight No</td>,\n",
              " <td>Launch site</td>,\n",
              " <td>Payload mass</td>,\n",
              " <tr> <td>1</td><td><a href=\"https://en.wikipedia.org/wiki/Florida\">Florida<a></a></a></td><td>300 kg</td></tr>,\n",
              " <td>1</td>,\n",
              " <td><a href=\"https://en.wikipedia.org/wiki/Florida\">Florida<a></a></a></td>,\n",
              " <td>300 kg</td>,\n",
              " <tr><td>2</td><td><a href=\"https://en.wikipedia.org/wiki/Texas\">Texas</a></td><td>94 kg</td></tr>,\n",
              " <td>2</td>,\n",
              " <td><a href=\"https://en.wikipedia.org/wiki/Texas\">Texas</a></td>,\n",
              " <td>94 kg</td>,\n",
              " <tr><td>3</td><td><a href=\"https://en.wikipedia.org/wiki/Florida\">Florida<a> </a></a></td><td>80 kg</td></tr>,\n",
              " <td>3</td>,\n",
              " <td><a href=\"https://en.wikipedia.org/wiki/Florida\">Florida<a> </a></a></td>,\n",
              " <td>80 kg</td>]"
            ]
          },
          "metadata": {},
          "execution_count": 43
        }
      ]
    },
    {
      "cell_type": "markdown",
      "source": [
        "## Attributes"
      ],
      "metadata": {
        "id": "0qz8gBVEjrQh"
      }
    },
    {
      "cell_type": "markdown",
      "source": [
        "Argüman tanınmazsa, etiketin nitelikleri üzerinde bir filtreye dönüştürülür. Örneğin, id bağımsız değişkeni olan Beautiful Soup, her etiketin id özelliğine göre filtre uygular. Örneğin, ilk td elemanları id of Flight değerine sahiptir, dolayısıyla bu id değerine göre filtreleme yapabiliriz."
      ],
      "metadata": {
        "id": "ee3pG5fJjrS2"
      }
    },
    {
      "cell_type": "code",
      "source": [
        "table_bs.find_all(id = 'flight')\n"
      ],
      "metadata": {
        "colab": {
          "base_uri": "https://localhost:8080/"
        },
        "id": "YnsLAV5ojrVM",
        "outputId": "c0deb25d-7263-461a-d00b-312999a58a0f"
      },
      "execution_count": null,
      "outputs": [
        {
          "output_type": "execute_result",
          "data": {
            "text/plain": [
              "[<td id=\"flight\">Flight No</td>]"
            ]
          },
          "metadata": {},
          "execution_count": 45
        }
      ]
    },
    {
      "cell_type": "code",
      "source": [
        "# Florida Vikipedi sayfasına bağlantıları olan tüm öğeleri bulabiliriz:\n",
        "list_input=table_bs.find_all(href=\"https://en.wikipedia.org/wiki/Florida\")\n",
        "list_input"
      ],
      "metadata": {
        "colab": {
          "base_uri": "https://localhost:8080/"
        },
        "id": "7d2BFx_ckdrC",
        "outputId": "edd091aa-02b2-49d0-db00-a9ce2132514d"
      },
      "execution_count": null,
      "outputs": [
        {
          "output_type": "execute_result",
          "data": {
            "text/plain": [
              "[<a href=\"https://en.wikipedia.org/wiki/Florida\">Florida<a></a></a>,\n",
              " <a href=\"https://en.wikipedia.org/wiki/Florida\">Florida<a> </a></a>]"
            ]
          },
          "metadata": {},
          "execution_count": 47
        }
      ]
    },
    {
      "cell_type": "code",
      "source": [
        "# Değer ne olursa olsun href niteliğini True olarak ayarlarsak, kod, href değerine sahip tüm etiketleri bulur:\n",
        "\n",
        "table_bs.find_all(href=True)"
      ],
      "metadata": {
        "colab": {
          "base_uri": "https://localhost:8080/"
        },
        "id": "6P-zjiE_kdtc",
        "outputId": "ff569c4f-52f4-4a50-a55a-52f5b9ee75f5"
      },
      "execution_count": null,
      "outputs": [
        {
          "output_type": "execute_result",
          "data": {
            "text/plain": [
              "[<a href=\"https://en.wikipedia.org/wiki/Florida\">Florida<a></a></a>,\n",
              " <a href=\"https://en.wikipedia.org/wiki/Texas\">Texas</a>,\n",
              " <a href=\"https://en.wikipedia.org/wiki/Florida\">Florida<a> </a></a>]"
            ]
          },
          "metadata": {},
          "execution_count": 48
        }
      ]
    },
    {
      "cell_type": "markdown",
      "source": [
        "## Exercise: find_all"
      ],
      "metadata": {
        "id": "cUTQj2h0kdv0"
      }
    },
    {
      "cell_type": "code",
      "source": [
        "table_bs.find_all(href=False)"
      ],
      "metadata": {
        "colab": {
          "base_uri": "https://localhost:8080/"
        },
        "id": "-0TAm35nkdyK",
        "outputId": "956ba6c8-e6ab-4603-d22f-255798095438"
      },
      "execution_count": null,
      "outputs": [
        {
          "output_type": "execute_result",
          "data": {
            "text/plain": [
              "[<table><tr><td id=\"flight\">Flight No</td><td>Launch site</td> <td>Payload mass</td></tr><tr> <td>1</td><td><a href=\"https://en.wikipedia.org/wiki/Florida\">Florida<a></a></a></td><td>300 kg</td></tr><tr><td>2</td><td><a href=\"https://en.wikipedia.org/wiki/Texas\">Texas</a></td><td>94 kg</td></tr><tr><td>3</td><td><a href=\"https://en.wikipedia.org/wiki/Florida\">Florida<a> </a></a></td><td>80 kg</td></tr></table>,\n",
              " <tr><td id=\"flight\">Flight No</td><td>Launch site</td> <td>Payload mass</td></tr>,\n",
              " <td id=\"flight\">Flight No</td>,\n",
              " <td>Launch site</td>,\n",
              " <td>Payload mass</td>,\n",
              " <tr> <td>1</td><td><a href=\"https://en.wikipedia.org/wiki/Florida\">Florida<a></a></a></td><td>300 kg</td></tr>,\n",
              " <td>1</td>,\n",
              " <td><a href=\"https://en.wikipedia.org/wiki/Florida\">Florida<a></a></a></td>,\n",
              " <a></a>,\n",
              " <td>300 kg</td>,\n",
              " <tr><td>2</td><td><a href=\"https://en.wikipedia.org/wiki/Texas\">Texas</a></td><td>94 kg</td></tr>,\n",
              " <td>2</td>,\n",
              " <td><a href=\"https://en.wikipedia.org/wiki/Texas\">Texas</a></td>,\n",
              " <td>94 kg</td>,\n",
              " <tr><td>3</td><td><a href=\"https://en.wikipedia.org/wiki/Florida\">Florida<a> </a></a></td><td>80 kg</td></tr>,\n",
              " <td>3</td>,\n",
              " <td><a href=\"https://en.wikipedia.org/wiki/Florida\">Florida<a> </a></a></td>,\n",
              " <a> </a>,\n",
              " <td>80 kg</td>]"
            ]
          },
          "metadata": {},
          "execution_count": 49
        }
      ]
    },
    {
      "cell_type": "code",
      "source": [
        "# Çorba nesnesi çorbasını kullanarak, id özniteliği içeriği \"en kalın\" olarak ayarlanmış öğeyi bulun.\n",
        "\n",
        "soup.find_all(id = 'boldest')"
      ],
      "metadata": {
        "colab": {
          "base_uri": "https://localhost:8080/"
        },
        "id": "NP2-CX8MlJRm",
        "outputId": "c76bfacd-6479-4cd8-c564-a5ad1fd50a0f"
      },
      "execution_count": null,
      "outputs": [
        {
          "output_type": "execute_result",
          "data": {
            "text/plain": [
              "[<b id=\"boldest\">Lebron James</b>]"
            ]
          },
          "metadata": {},
          "execution_count": 50
        }
      ]
    },
    {
      "cell_type": "code",
      "source": [
        "# String ile etiketler yerine stringleri arayabilirsiniz, burada Florida ile tüm öğeleri buluruz:\n",
        "\n",
        "table_bs.find_all(string = 'Florida')"
      ],
      "metadata": {
        "colab": {
          "base_uri": "https://localhost:8080/"
        },
        "id": "s2iT4czdlaXh",
        "outputId": "adfc5fa3-7630-432f-b778-a5a21409e781"
      },
      "execution_count": null,
      "outputs": [
        {
          "output_type": "execute_result",
          "data": {
            "text/plain": [
              "['Florida', 'Florida']"
            ]
          },
          "metadata": {},
          "execution_count": 51
        }
      ]
    },
    {
      "cell_type": "markdown",
      "source": [
        "**find_all() yöntemi, sonuçları aramak için tüm belgeyi tarar, tek bir öğe arıyorsanız, belgedeki ilk öğeyi bulmak için find() yöntemini kullanabilirsiniz. Aşağıdaki iki tabloyu göz önünde bulundurun:**\n",
        "\n"
      ],
      "metadata": {
        "id": "n58jabMQl79u"
      }
    },
    {
      "cell_type": "code",
      "source": [
        "%%html\n",
        "<h3>Rocket Launch </h3>\n",
        "\n",
        "<p>\n",
        "<table class='rocket'>\n",
        "  <tr>\n",
        "    <td>Flight No</td>\n",
        "    <td>Launch site</td> \n",
        "    <td>Payload mass</td>\n",
        "  </tr>\n",
        "  <tr>\n",
        "    <td>1</td>\n",
        "    <td>Florida</td>\n",
        "    <td>300 kg</td>\n",
        "  </tr>\n",
        "  <tr>\n",
        "    <td>2</td>\n",
        "    <td>Texas</td>\n",
        "    <td>94 kg</td>\n",
        "  </tr>\n",
        "  <tr>\n",
        "    <td>3</td>\n",
        "    <td>Florida </td>\n",
        "    <td>80 kg</td>\n",
        "  </tr>\n",
        "</table>\n",
        "</p>\n",
        "<p>\n",
        "\n",
        "<h3>Pizza Party  </h3>\n",
        "  \n",
        "    \n",
        "<table class='pizza'>\n",
        "  <tr>\n",
        "    <td>Pizza Place</td>\n",
        "    <td>Orders</td> \n",
        "    <td>Slices </td>\n",
        "   </tr>\n",
        "  <tr>\n",
        "    <td>Domino's Pizza</td>\n",
        "    <td>10</td>\n",
        "    <td>100</td>\n",
        "  </tr>\n",
        "  <tr>\n",
        "    <td>Little Caesars</td>\n",
        "    <td>12</td>\n",
        "    <td >144 </td>\n",
        "  </tr>\n",
        "  <tr>\n",
        "    <td>Papa John's </td>\n",
        "    <td>15 </td>\n",
        "    <td>165</td>\n",
        "  </tr>\n"
      ],
      "metadata": {
        "colab": {
          "base_uri": "https://localhost:8080/",
          "height": 275
        },
        "id": "fSfO3zPol8AJ",
        "outputId": "e0b410a5-e2d9-4d6c-9ea5-4acd28c390d0"
      },
      "execution_count": null,
      "outputs": [
        {
          "output_type": "display_data",
          "data": {
            "text/plain": [
              "<IPython.core.display.HTML object>"
            ],
            "text/html": [
              "<h3>Rocket Launch </h3>\n",
              "\n",
              "<p>\n",
              "<table class='rocket'>\n",
              "  <tr>\n",
              "    <td>Flight No</td>\n",
              "    <td>Launch site</td> \n",
              "    <td>Payload mass</td>\n",
              "  </tr>\n",
              "  <tr>\n",
              "    <td>1</td>\n",
              "    <td>Florida</td>\n",
              "    <td>300 kg</td>\n",
              "  </tr>\n",
              "  <tr>\n",
              "    <td>2</td>\n",
              "    <td>Texas</td>\n",
              "    <td>94 kg</td>\n",
              "  </tr>\n",
              "  <tr>\n",
              "    <td>3</td>\n",
              "    <td>Florida </td>\n",
              "    <td>80 kg</td>\n",
              "  </tr>\n",
              "</table>\n",
              "</p>\n",
              "<p>\n",
              "\n",
              "<h3>Pizza Party  </h3>\n",
              "  \n",
              "    \n",
              "<table class='pizza'>\n",
              "  <tr>\n",
              "    <td>Pizza Place</td>\n",
              "    <td>Orders</td> \n",
              "    <td>Slices </td>\n",
              "   </tr>\n",
              "  <tr>\n",
              "    <td>Domino's Pizza</td>\n",
              "    <td>10</td>\n",
              "    <td>100</td>\n",
              "  </tr>\n",
              "  <tr>\n",
              "    <td>Little Caesars</td>\n",
              "    <td>12</td>\n",
              "    <td >144 </td>\n",
              "  </tr>\n",
              "  <tr>\n",
              "    <td>Papa John's </td>\n",
              "    <td>15 </td>\n",
              "    <td>165</td>\n",
              "  </tr>\n"
            ]
          },
          "metadata": {}
        }
      ]
    },
    {
      "cell_type": "code",
      "source": [
        "two_tables=\"<h3>Rocket Launch </h3><p><table class='rocket'><tr><td>Flight No</td><td>Launch site</td> <td>Payload mass</td></tr><tr><td>1</td><td>Florida</td><td>300 kg</td></tr><tr><td>2</td><td>Texas</td><td>94 kg</td></tr><tr><td>3</td><td>Florida </td><td>80 kg</td></tr></table></p><p><h3>Pizza Party  </h3><table class='pizza'><tr><td>Pizza Place</td><td>Orders</td> <td>Slices </td></tr><tr><td>Domino's Pizza</td><td>10</td><td>100</td></tr><tr><td>Little Caesars</td><td>12</td><td >144 </td></tr><tr><td>Papa John's </td><td>15 </td><td>165</td></tr>\""
      ],
      "metadata": {
        "id": "INPg-L6xl8Cu"
      },
      "execution_count": null,
      "outputs": []
    },
    {
      "cell_type": "code",
      "source": [
        "two_tables_bs = BeautifulSoup(two_tables,'html.parser')"
      ],
      "metadata": {
        "id": "94FUm9D3l8E8"
      },
      "execution_count": null,
      "outputs": []
    },
    {
      "cell_type": "code",
      "source": [
        "two_tables_bs.find('table')"
      ],
      "metadata": {
        "colab": {
          "base_uri": "https://localhost:8080/"
        },
        "id": "Qrl01Ppzl8HO",
        "outputId": "c1823278-0805-4395-8421-bdf64f7429bb"
      },
      "execution_count": null,
      "outputs": [
        {
          "output_type": "execute_result",
          "data": {
            "text/plain": [
              "<table class=\"rocket\"><tr><td>Flight No</td><td>Launch site</td> <td>Payload mass</td></tr><tr><td>1</td><td>Florida</td><td>300 kg</td></tr><tr><td>2</td><td>Texas</td><td>94 kg</td></tr><tr><td>3</td><td>Florida </td><td>80 kg</td></tr></table>"
            ]
          },
          "metadata": {},
          "execution_count": 55
        }
      ]
    },
    {
      "cell_type": "code",
      "source": [
        "# İkinci tabloyu bulmak için class niteliğini filtreleyebiliriz, ancak class Python'da bir anahtar kelime olduğu için alt çizgi ekleriz.\n",
        "two_tables_bs.find(\"table\",class_='pizza')"
      ],
      "metadata": {
        "colab": {
          "base_uri": "https://localhost:8080/"
        },
        "id": "WSZExAoymqFZ",
        "outputId": "2fc41a58-4aa1-4c98-9104-6033548d3ced"
      },
      "execution_count": null,
      "outputs": [
        {
          "output_type": "execute_result",
          "data": {
            "text/plain": [
              "<table class=\"pizza\"><tr><td>Pizza Place</td><td>Orders</td> <td>Slices </td></tr><tr><td>Domino's Pizza</td><td>10</td><td>100</td></tr><tr><td>Little Caesars</td><td>12</td><td>144 </td></tr><tr><td>Papa John's </td><td>15 </td><td>165</td></tr></table>"
            ]
          },
          "metadata": {},
          "execution_count": 57
        }
      ]
    },
    {
      "cell_type": "markdown",
      "source": [
        "## Downloading And Scraping The Contents Of A Web Page\n"
      ],
      "metadata": {
        "id": "3PIbh3SVmqH9"
      }
    },
    {
      "cell_type": "code",
      "source": [
        "url = \"http://www.ibm.com\""
      ],
      "metadata": {
        "id": "Y-sXQgdfmqKv"
      },
      "execution_count": null,
      "outputs": []
    },
    {
      "cell_type": "code",
      "source": [
        "data = requests.get(url).text"
      ],
      "metadata": {
        "id": "bEWL8pOhmqNS"
      },
      "execution_count": null,
      "outputs": []
    },
    {
      "cell_type": "code",
      "source": [
        "soup  = BeautifulSoup(data,'html.parser')\n"
      ],
      "metadata": {
        "id": "qm82oiX3mqP4"
      },
      "execution_count": null,
      "outputs": []
    },
    {
      "cell_type": "code",
      "source": [
        "for link in soup.find_all('a',href=True):\n",
        "  print(link.get('href'))"
      ],
      "metadata": {
        "colab": {
          "base_uri": "https://localhost:8080/"
        },
        "id": "t-Jsf5AlmqSQ",
        "outputId": "6ea4f476-9c53-4ab2-d7f6-4a5fcc277cf7"
      },
      "execution_count": null,
      "outputs": [
        {
          "output_type": "stream",
          "name": "stdout",
          "text": [
            "https://www.ibm.com/thought-leadership/best-of/2022/\n",
            "#ibm-hp--tech-section\n",
            "https://www.ibm.com/consulting/?lnk=ushpv18intro2\n",
            "https://www.ibm.com/about\n",
            "https://www.ibm.com/consulting/?lnk=flathl\n",
            "https://www.ibm.com/consulting/strategy/?lnk=flathl\n",
            "https://www.ibm.com/consulting/ibmix?lnk=flathl\n",
            "https://www.ibm.com/consulting/technology/\n",
            "https://www.ibm.com/consulting/operations/?lnk=flathl\n",
            "https://www.ibm.com/strategic-partnerships\n",
            "https://www.ibm.com/employment/?lnk=flatitem\n",
            "https://www.ibm.com/impact\n",
            "https://research.ibm.com/\n",
            "https://www.ibm.com/\n"
          ]
        }
      ]
    },
    {
      "cell_type": "code",
      "source": [
        "# Tüm görüntüleri kazıyın Etiket\n",
        "\n",
        "for link in soup.find_all('img'):\n",
        "  print(link)\n",
        "  print(link.get('src'))"
      ],
      "metadata": {
        "colab": {
          "base_uri": "https://localhost:8080/"
        },
        "id": "7RpEYYjNn4wq",
        "outputId": "8ca4f6df-c425-499a-e52f-4a67c1469104"
      },
      "execution_count": null,
      "outputs": [
        {
          "output_type": "stream",
          "name": "stdout",
          "text": [
            "<img alt=\"Person standing with arms crossed\" aria-describedby=\"bx--image-1\" class=\"bx--image__img\" src=\"https://1.dam.s81c.com/p/0a23e414312bcb6f/08196d0e04260ae5_cropped.jpg.global.sr_16x9.jpg\"/>\n",
            "https://1.dam.s81c.com/p/0a23e414312bcb6f/08196d0e04260ae5_cropped.jpg.global.sr_16x9.jpg\n",
            "<img alt=\"Team members at work in a conference room\" aria-describedby=\"bx--image-2\" class=\"bx--image__img\" src=\"https://1.dam.s81c.com/p/06655c075aa3aa29/CaitOppermann_2019_12_06_IBMGarage_DSC3304.jpg.global.m_16x9.jpg\"/>\n",
            "https://1.dam.s81c.com/p/06655c075aa3aa29/CaitOppermann_2019_12_06_IBMGarage_DSC3304.jpg.global.m_16x9.jpg\n",
            "<img alt=\"Coworkers looking at laptops\" aria-describedby=\"bx--image-3\" class=\"bx--image__img\" src=\"https://1.dam.s81c.com/p/08f951353c2707b8/052022_CaitOppermann_InsideIBM_London_2945_03.jpg.global.sr_16x9.jpg\"/>\n",
            "https://1.dam.s81c.com/p/08f951353c2707b8/052022_CaitOppermann_InsideIBM_London_2945_03.jpg.global.sr_16x9.jpg\n",
            "<img alt=\"Cloud developer with red sweater coding at desk\" aria-describedby=\"bx--image-4\" class=\"bx--image__img\" src=\"https://1.dam.s81c.com/p/064e0139f5a3aa5e/0500002_Lowell_LI_100119.jpg.global.sr_16x9.jpg\"/>\n",
            "https://1.dam.s81c.com/p/064e0139f5a3aa5e/0500002_Lowell_LI_100119.jpg.global.sr_16x9.jpg\n",
            "<img alt=\"Aerial view of automated conveyer belt and machinery at work\" aria-describedby=\"bx--image-5\" class=\"bx--image__img\" src=\"https://1.dam.s81c.com/p/0795cae91a25156f/conveyorrobottopview.jpg.global.sr_16x9.jpg\"/>\n",
            "https://1.dam.s81c.com/p/0795cae91a25156f/conveyorrobottopview.jpg.global.sr_16x9.jpg\n",
            "<img alt=\"Overhead view of partners collaborating on design with laptops and coffee\" aria-describedby=\"bx--image-6\" class=\"bx--image__img\" src=\"https://1.dam.s81c.com/p/06dfa9ccdba4ec79/1f417900-9042-44d1-9c219a854bbb62ea.jpg.global.sr_16x9.jpg\"/>\n",
            "https://1.dam.s81c.com/p/06dfa9ccdba4ec79/1f417900-9042-44d1-9c219a854bbb62ea.jpg.global.sr_16x9.jpg\n"
          ]
        }
      ]
    },
    {
      "cell_type": "markdown",
      "source": [
        "##HTML tablolarından veri kazıyın"
      ],
      "metadata": {
        "id": "EiZDv-_un4y_"
      }
    },
    {
      "cell_type": "code",
      "source": [
        "#The below url contains an html table with data about colors and color codes.\n",
        "#Aşağıdaki url, renkler ve renk kodlarıyla ilgili verileri içeren bir html tablosu içerir.\n",
        "url = \"https://cf-courses-data.s3.us.cloud-object-storage.appdomain.cloud/IBM-DA0321EN-SkillsNetwork/labs/datasets/HTMLColorCodes.html\""
      ],
      "metadata": {
        "id": "HavAeaesn41b"
      },
      "execution_count": null,
      "outputs": []
    },
    {
      "cell_type": "code",
      "source": [
        "data = requests.get(url).text"
      ],
      "metadata": {
        "id": "GS0rStQkoi_x"
      },
      "execution_count": null,
      "outputs": []
    },
    {
      "cell_type": "code",
      "source": [
        "soup = BeautifulSoup(data,'html.parser')"
      ],
      "metadata": {
        "id": "e9RYxc5Dn44G"
      },
      "execution_count": null,
      "outputs": []
    },
    {
      "cell_type": "code",
      "source": [
        "# #find a html table in the web page\n",
        "soup.find_all('table')"
      ],
      "metadata": {
        "colab": {
          "base_uri": "https://localhost:8080/"
        },
        "id": "ue1KiDLAojKd",
        "outputId": "80c4b456-b5ca-4bed-9e8b-edfbf506f3a1"
      },
      "execution_count": null,
      "outputs": [
        {
          "output_type": "execute_result",
          "data": {
            "text/plain": [
              "[<table border=\"1\" class=\"main-table\">\n",
              " <tr>\n",
              " <td>Number </td>\n",
              " <td>Color</td>\n",
              " <td>Color Name</td>\n",
              " <td>Hex Code<br/>#RRGGBB</td>\n",
              " <td>Decimal Code<br/>(R,G,B)</td>\n",
              " </tr>\n",
              " <tr>\n",
              " <td>1</td>\n",
              " <td style=\"background:lightsalmon;\"> </td>\n",
              " <td>lightsalmon</td>\n",
              " <td>#FFA07A</td>\n",
              " <td>rgb(255,160,122)</td>\n",
              " </tr>\n",
              " <tr>\n",
              " <td>2</td>\n",
              " <td style=\"background:salmon;\"> </td>\n",
              " <td>salmon</td>\n",
              " <td>#FA8072</td>\n",
              " <td>rgb(250,128,114)</td>\n",
              " </tr>\n",
              " <tr>\n",
              " <td>3</td>\n",
              " <td style=\"background:darksalmon;\"> </td>\n",
              " <td>darksalmon</td>\n",
              " <td>#E9967A</td>\n",
              " <td>rgb(233,150,122)</td>\n",
              " </tr>\n",
              " <tr>\n",
              " <td>4</td>\n",
              " <td style=\"background:lightcoral;\"> </td>\n",
              " <td>lightcoral</td>\n",
              " <td>#F08080</td>\n",
              " <td>rgb(240,128,128)</td>\n",
              " </tr>\n",
              " <tr>\n",
              " <td>5</td>\n",
              " <td style=\"background:coral;\"> </td>\n",
              " <td>coral</td>\n",
              " <td>#FF7F50</td>\n",
              " <td>rgb(255,127,80)</td>\n",
              " </tr>\n",
              " <tr>\n",
              " <td>6</td>\n",
              " <td style=\"background:tomato;\"> </td>\n",
              " <td>tomato</td>\n",
              " <td>#FF6347</td>\n",
              " <td>rgb(255,99,71)</td>\n",
              " </tr>\n",
              " <tr>\n",
              " <td>7</td>\n",
              " <td style=\"background:orangered;\"> </td>\n",
              " <td>orangered</td>\n",
              " <td>#FF4500</td>\n",
              " <td>rgb(255,69,0)</td>\n",
              " </tr>\n",
              " <tr>\n",
              " <td>8</td>\n",
              " <td style=\"background:gold;\"> </td>\n",
              " <td>gold</td>\n",
              " <td>#FFD700</td>\n",
              " <td>rgb(255,215,0)</td>\n",
              " </tr>\n",
              " <tr>\n",
              " <td>9</td>\n",
              " <td style=\"background:orange;\"> </td>\n",
              " <td>orange</td>\n",
              " <td>#FFA500</td>\n",
              " <td>rgb(255,165,0)</td>\n",
              " </tr>\n",
              " <tr>\n",
              " <td>10</td>\n",
              " <td style=\"background:darkorange;\"> </td>\n",
              " <td>darkorange</td>\n",
              " <td>#FF8C00</td>\n",
              " <td>rgb(255,140,0)</td>\n",
              " </tr>\n",
              " <tr>\n",
              " <td>11</td>\n",
              " <td style=\"background:lightyellow;\"> </td>\n",
              " <td>lightyellow</td>\n",
              " <td>#FFFFE0</td>\n",
              " <td>rgb(255,255,224)</td>\n",
              " </tr>\n",
              " <tr>\n",
              " <td>12</td>\n",
              " <td style=\"background:lemonchiffon;\"> </td>\n",
              " <td>lemonchiffon</td>\n",
              " <td>#FFFACD</td>\n",
              " <td>rgb(255,250,205)</td>\n",
              " </tr>\n",
              " <tr>\n",
              " <td>13</td>\n",
              " <td style=\"background:papayawhip;\"> </td>\n",
              " <td>papayawhip</td>\n",
              " <td>#FFEFD5</td>\n",
              " <td>rgb(255,239,213)</td>\n",
              " </tr>\n",
              " <tr>\n",
              " <td>14</td>\n",
              " <td style=\"background:moccasin;\"> </td>\n",
              " <td>moccasin</td>\n",
              " <td>#FFE4B5</td>\n",
              " <td>rgb(255,228,181)</td>\n",
              " </tr>\n",
              " <tr>\n",
              " <td>15</td>\n",
              " <td style=\"background:peachpuff;\"> </td>\n",
              " <td>peachpuff</td>\n",
              " <td>#FFDAB9</td>\n",
              " <td>rgb(255,218,185)</td>\n",
              " </tr>\n",
              " <tr>\n",
              " <td>16</td>\n",
              " <td style=\"background:palegoldenrod;\"> </td>\n",
              " <td>palegoldenrod</td>\n",
              " <td>#EEE8AA</td>\n",
              " <td>rgb(238,232,170)</td>\n",
              " </tr>\n",
              " <tr>\n",
              " <td>17</td>\n",
              " <td style=\"background:khaki;\"> </td>\n",
              " <td>khaki</td>\n",
              " <td>#F0E68C</td>\n",
              " <td>rgb(240,230,140)</td>\n",
              " </tr>\n",
              " <tr>\n",
              " <td>18</td>\n",
              " <td style=\"background:darkkhaki;\"> </td>\n",
              " <td>darkkhaki</td>\n",
              " <td>#BDB76B</td>\n",
              " <td>rgb(189,183,107)</td>\n",
              " </tr>\n",
              " <tr>\n",
              " <td>19</td>\n",
              " <td style=\"background:yellow;\"> </td>\n",
              " <td>yellow</td>\n",
              " <td>#FFFF00</td>\n",
              " <td>rgb(255,255,0)</td>\n",
              " </tr>\n",
              " <tr>\n",
              " <td>20</td>\n",
              " <td style=\"background:lawngreen;\"> </td>\n",
              " <td>lawngreen</td>\n",
              " <td>#7CFC00</td>\n",
              " <td>rgb(124,252,0)</td>\n",
              " </tr>\n",
              " <tr>\n",
              " <td>21</td>\n",
              " <td style=\"background:chartreuse;\"> </td>\n",
              " <td>chartreuse</td>\n",
              " <td>#7FFF00</td>\n",
              " <td>rgb(127,255,0)</td>\n",
              " </tr>\n",
              " <tr>\n",
              " <td>22</td>\n",
              " <td style=\"background:limegreen;\"> </td>\n",
              " <td>limegreen</td>\n",
              " <td>#32CD32</td>\n",
              " <td>rgb(50,205,50)</td>\n",
              " </tr>\n",
              " <tr>\n",
              " <td>23</td>\n",
              " <td style=\"background:lime;\"> </td>\n",
              " <td>lime</td>\n",
              " <td>#00FF00</td>\n",
              " <td>rgb(0.255.0)</td>\n",
              " </tr>\n",
              " <tr>\n",
              " <td>24</td>\n",
              " <td style=\"background:forestgreen;\"> </td>\n",
              " <td>forestgreen</td>\n",
              " <td>#228B22</td>\n",
              " <td>rgb(34,139,34)</td>\n",
              " </tr>\n",
              " <tr>\n",
              " <td>25</td>\n",
              " <td style=\"background:green;\"> </td>\n",
              " <td>green</td>\n",
              " <td>#008000</td>\n",
              " <td>rgb(0,128,0)</td>\n",
              " </tr>\n",
              " <tr>\n",
              " <td>26</td>\n",
              " <td style=\"background:powderblue;\"> </td>\n",
              " <td>powderblue</td>\n",
              " <td>#B0E0E6</td>\n",
              " <td>rgb(176,224,230)</td>\n",
              " </tr>\n",
              " <tr>\n",
              " <td>27</td>\n",
              " <td style=\"background:lightblue;\"> </td>\n",
              " <td>lightblue</td>\n",
              " <td>#ADD8E6</td>\n",
              " <td>rgb(173,216,230)</td>\n",
              " </tr>\n",
              " <tr>\n",
              " <td>28</td>\n",
              " <td style=\"background:lightskyblue;\"> </td>\n",
              " <td>lightskyblue</td>\n",
              " <td>#87CEFA</td>\n",
              " <td>rgb(135,206,250)</td>\n",
              " </tr>\n",
              " <tr>\n",
              " <td>29</td>\n",
              " <td style=\"background:skyblue;\"> </td>\n",
              " <td>skyblue</td>\n",
              " <td>#87CEEB</td>\n",
              " <td>rgb(135,206,235)</td>\n",
              " </tr>\n",
              " <tr>\n",
              " <td>30</td>\n",
              " <td style=\"background:deepskyblue;\"> </td>\n",
              " <td>deepskyblue</td>\n",
              " <td>#00BFFF</td>\n",
              " <td>rgb(0,191,255)</td>\n",
              " </tr>\n",
              " <tr>\n",
              " <td>31</td>\n",
              " <td style=\"background:lightsteelblue;\"> </td>\n",
              " <td>lightsteelblue</td>\n",
              " <td>#B0C4DE</td>\n",
              " <td>rgb(176,196,222)</td>\n",
              " </tr>\n",
              " <tr>\n",
              " <td>32</td>\n",
              " <td style=\"background:dodgerblue;\"> </td>\n",
              " <td>dodgerblue</td>\n",
              " <td>#1E90FF</td>\n",
              " <td>rgb(30,144,255)</td>\n",
              " </tr>\n",
              " </table>]"
            ]
          },
          "metadata": {},
          "execution_count": 75
        }
      ]
    },
    {
      "cell_type": "code",
      "source": [
        "#Get all rows from the table\n",
        "\n",
        "for row in soup.find_all('tr'):\n",
        "  cols = row.find_all('td')\n",
        "  color_name = cols[2].string\n",
        "  color_code = cols[3].string\n",
        "  print('{}----->{}'.format(color_name,color_code))"
      ],
      "metadata": {
        "colab": {
          "base_uri": "https://localhost:8080/"
        },
        "id": "bIla9XpBojnA",
        "outputId": "2c68023c-2fa0-4edb-e089-97048beb2915"
      },
      "execution_count": null,
      "outputs": [
        {
          "output_type": "stream",
          "name": "stdout",
          "text": [
            "Color Name----->None\n",
            "lightsalmon----->#FFA07A\n",
            "salmon----->#FA8072\n",
            "darksalmon----->#E9967A\n",
            "lightcoral----->#F08080\n",
            "coral----->#FF7F50\n",
            "tomato----->#FF6347\n",
            "orangered----->#FF4500\n",
            "gold----->#FFD700\n",
            "orange----->#FFA500\n",
            "darkorange----->#FF8C00\n",
            "lightyellow----->#FFFFE0\n",
            "lemonchiffon----->#FFFACD\n",
            "papayawhip----->#FFEFD5\n",
            "moccasin----->#FFE4B5\n",
            "peachpuff----->#FFDAB9\n",
            "palegoldenrod----->#EEE8AA\n",
            "khaki----->#F0E68C\n",
            "darkkhaki----->#BDB76B\n",
            "yellow----->#FFFF00\n",
            "lawngreen----->#7CFC00\n",
            "chartreuse----->#7FFF00\n",
            "limegreen----->#32CD32\n",
            "lime----->#00FF00\n",
            "forestgreen----->#228B22\n",
            "green----->#008000\n",
            "powderblue----->#B0E0E6\n",
            "lightblue----->#ADD8E6\n",
            "lightskyblue----->#87CEFA\n",
            "skyblue----->#87CEEB\n",
            "deepskyblue----->#00BFFF\n",
            "lightsteelblue----->#B0C4DE\n",
            "dodgerblue----->#1E90FF\n"
          ]
        }
      ]
    },
    {
      "cell_type": "markdown",
      "source": [
        "## BeautifulSoup ve Pandas kullanarak HTML tablolarındaki verileri bir DataFrame'e kazıyın"
      ],
      "metadata": {
        "id": "RKQJcp6QojxG"
      }
    },
    {
      "cell_type": "code",
      "source": [
        "import pandas as pd\n",
        "\n"
      ],
      "metadata": {
        "id": "4B_x6_Jcoj3H"
      },
      "execution_count": null,
      "outputs": []
    },
    {
      "cell_type": "code",
      "source": [
        "# The below url contains html tables with data about world population.\n",
        "# Aşağıdaki url, dünya nüfusuyla ilgili verileri içeren html tabloları içerir.\n",
        "\n",
        "url = \"https://en.wikipedia.org/wiki/World_population\""
      ],
      "metadata": {
        "id": "fDEOtj2roj9K"
      },
      "execution_count": null,
      "outputs": []
    },
    {
      "cell_type": "code",
      "source": [
        "data = requests.get(url).text"
      ],
      "metadata": {
        "id": "zLr8nZwJqHg8"
      },
      "execution_count": null,
      "outputs": []
    },
    {
      "cell_type": "code",
      "source": [
        "soup = BeautifulSoup(data,'html.parser')"
      ],
      "metadata": {
        "id": "39youRgOqHjM"
      },
      "execution_count": null,
      "outputs": []
    },
    {
      "cell_type": "code",
      "source": [
        "tables = soup.find_all('table')"
      ],
      "metadata": {
        "id": "mtRc-hqxqHls"
      },
      "execution_count": null,
      "outputs": []
    },
    {
      "cell_type": "code",
      "source": [
        "len(tables)"
      ],
      "metadata": {
        "colab": {
          "base_uri": "https://localhost:8080/"
        },
        "id": "E389zAJAqHoE",
        "outputId": "a9f7fb2d-df87-43cb-f3b9-95f6cb86e5ea"
      },
      "execution_count": null,
      "outputs": [
        {
          "output_type": "execute_result",
          "data": {
            "text/plain": [
              "24"
            ]
          },
          "metadata": {},
          "execution_count": 83
        }
      ]
    },
    {
      "cell_type": "markdown",
      "source": [
        "En yoğun 10 ülke tablosunu aradığımızı varsayalım, tablolar listesine bakıp her tablodaki verilere göre aradığımız doğru olanı bulabilir veya listede varsa tablo adını arayabiliriz. ancak bu seçenek her zaman çalışmayabilir."
      ],
      "metadata": {
        "id": "sWOowv9EqHqc"
      }
    },
    {
      "cell_type": "code",
      "source": [
        "for index,table in enumerate(tables):\n",
        "  if('10 most densely populated countries' in str(table)):\n",
        "    table_index = index\n",
        "print(table_index)"
      ],
      "metadata": {
        "colab": {
          "base_uri": "https://localhost:8080/"
        },
        "id": "-dMaIqlqqHs_",
        "outputId": "25e4f279-f2b9-4419-8b85-735f1642ccb3"
      },
      "execution_count": null,
      "outputs": [
        {
          "output_type": "stream",
          "name": "stdout",
          "text": [
            "4\n"
          ]
        }
      ]
    },
    {
      "cell_type": "code",
      "source": [
        "# Aşağıdaki en yoğun nüfuslu 10 ülke olan tablonun tablo adını bulma;\n",
        "\n",
        "print(tables[table_index].prettify())"
      ],
      "metadata": {
        "id": "ZMG4nTJLrSyY"
      },
      "execution_count": null,
      "outputs": []
    },
    {
      "cell_type": "markdown",
      "source": [
        "## DataFrame"
      ],
      "metadata": {
        "id": "d4MxcPIsrS3L"
      }
    },
    {
      "cell_type": "code",
      "source": [
        "population_data = pd.DataFrame(columns = ['Rank','Country','Population','Area','Density'])\n",
        "\n",
        "for row in tables[table_index].tbody.find_all('tr'):\n",
        "  col = row.find_all('td')\n",
        "  if (col != []):\n",
        "    rank = col[0].text\n",
        "    country = col[1].text\n",
        "    population = col[2].text\n",
        "    area = col[3].text\n",
        "    density = col[4].text\n",
        "    population_data = population_data.append({'Rank' : rank,\n",
        "                                              'Country' : country,\n",
        "                                             'Population' : population,\n",
        "                                              'Area' : area,\n",
        "                                              'Density' : density},ignore_index =True)\n",
        "    \n",
        "population_data"
      ],
      "metadata": {
        "colab": {
          "base_uri": "https://localhost:8080/",
          "height": 363
        },
        "id": "SJwrZ20OrS5k",
        "outputId": "eedf7075-fa45-47b5-f026-b43ba9c7857b"
      },
      "execution_count": null,
      "outputs": [
        {
          "output_type": "execute_result",
          "data": {
            "text/plain": [
              "  Rank                Country     Population       Area  Density\n",
              "0    1              Singapore      5,921,231        719  8,235\\n\n",
              "1    2           Bangladesh\\n  165,650,475\\n  148,460\\n  1,116\\n\n",
              "2    3  \\n Palestine[103]\\n\\n    5,223,000\\n    6,025\\n    867\\n\n",
              "3    4                Lebanon      5,296,814     10,400    509\\n\n",
              "4    5                 Taiwan     23,580,712     35,980    655\\n\n",
              "5    6            South Korea     51,844,834     99,720    520\\n\n",
              "6    7                 Rwanda     13,173,730     26,338    500\\n\n",
              "7    8               Israel\\n    8,914,885\\n   21,937\\n    406\\n\n",
              "8    9                  Haiti     11,334,637     27,750    408\\n\n",
              "9   10          Netherlands\\n   17,400,824\\n   41,543\\n    419\\n"
            ],
            "text/html": [
              "\n",
              "  <div id=\"df-c1c6c9af-701c-4899-b465-5270e9bd285a\">\n",
              "    <div class=\"colab-df-container\">\n",
              "      <div>\n",
              "<style scoped>\n",
              "    .dataframe tbody tr th:only-of-type {\n",
              "        vertical-align: middle;\n",
              "    }\n",
              "\n",
              "    .dataframe tbody tr th {\n",
              "        vertical-align: top;\n",
              "    }\n",
              "\n",
              "    .dataframe thead th {\n",
              "        text-align: right;\n",
              "    }\n",
              "</style>\n",
              "<table border=\"1\" class=\"dataframe\">\n",
              "  <thead>\n",
              "    <tr style=\"text-align: right;\">\n",
              "      <th></th>\n",
              "      <th>Rank</th>\n",
              "      <th>Country</th>\n",
              "      <th>Population</th>\n",
              "      <th>Area</th>\n",
              "      <th>Density</th>\n",
              "    </tr>\n",
              "  </thead>\n",
              "  <tbody>\n",
              "    <tr>\n",
              "      <th>0</th>\n",
              "      <td>1</td>\n",
              "      <td>Singapore</td>\n",
              "      <td>5,921,231</td>\n",
              "      <td>719</td>\n",
              "      <td>8,235\\n</td>\n",
              "    </tr>\n",
              "    <tr>\n",
              "      <th>1</th>\n",
              "      <td>2</td>\n",
              "      <td>Bangladesh\\n</td>\n",
              "      <td>165,650,475\\n</td>\n",
              "      <td>148,460\\n</td>\n",
              "      <td>1,116\\n</td>\n",
              "    </tr>\n",
              "    <tr>\n",
              "      <th>2</th>\n",
              "      <td>3</td>\n",
              "      <td>\\n Palestine[103]\\n\\n</td>\n",
              "      <td>5,223,000\\n</td>\n",
              "      <td>6,025\\n</td>\n",
              "      <td>867\\n</td>\n",
              "    </tr>\n",
              "    <tr>\n",
              "      <th>3</th>\n",
              "      <td>4</td>\n",
              "      <td>Lebanon</td>\n",
              "      <td>5,296,814</td>\n",
              "      <td>10,400</td>\n",
              "      <td>509\\n</td>\n",
              "    </tr>\n",
              "    <tr>\n",
              "      <th>4</th>\n",
              "      <td>5</td>\n",
              "      <td>Taiwan</td>\n",
              "      <td>23,580,712</td>\n",
              "      <td>35,980</td>\n",
              "      <td>655\\n</td>\n",
              "    </tr>\n",
              "    <tr>\n",
              "      <th>5</th>\n",
              "      <td>6</td>\n",
              "      <td>South Korea</td>\n",
              "      <td>51,844,834</td>\n",
              "      <td>99,720</td>\n",
              "      <td>520\\n</td>\n",
              "    </tr>\n",
              "    <tr>\n",
              "      <th>6</th>\n",
              "      <td>7</td>\n",
              "      <td>Rwanda</td>\n",
              "      <td>13,173,730</td>\n",
              "      <td>26,338</td>\n",
              "      <td>500\\n</td>\n",
              "    </tr>\n",
              "    <tr>\n",
              "      <th>7</th>\n",
              "      <td>8</td>\n",
              "      <td>Israel\\n</td>\n",
              "      <td>8,914,885\\n</td>\n",
              "      <td>21,937\\n</td>\n",
              "      <td>406\\n</td>\n",
              "    </tr>\n",
              "    <tr>\n",
              "      <th>8</th>\n",
              "      <td>9</td>\n",
              "      <td>Haiti</td>\n",
              "      <td>11,334,637</td>\n",
              "      <td>27,750</td>\n",
              "      <td>408\\n</td>\n",
              "    </tr>\n",
              "    <tr>\n",
              "      <th>9</th>\n",
              "      <td>10</td>\n",
              "      <td>Netherlands\\n</td>\n",
              "      <td>17,400,824\\n</td>\n",
              "      <td>41,543\\n</td>\n",
              "      <td>419\\n</td>\n",
              "    </tr>\n",
              "  </tbody>\n",
              "</table>\n",
              "</div>\n",
              "      <button class=\"colab-df-convert\" onclick=\"convertToInteractive('df-c1c6c9af-701c-4899-b465-5270e9bd285a')\"\n",
              "              title=\"Convert this dataframe to an interactive table.\"\n",
              "              style=\"display:none;\">\n",
              "        \n",
              "  <svg xmlns=\"http://www.w3.org/2000/svg\" height=\"24px\"viewBox=\"0 0 24 24\"\n",
              "       width=\"24px\">\n",
              "    <path d=\"M0 0h24v24H0V0z\" fill=\"none\"/>\n",
              "    <path d=\"M18.56 5.44l.94 2.06.94-2.06 2.06-.94-2.06-.94-.94-2.06-.94 2.06-2.06.94zm-11 1L8.5 8.5l.94-2.06 2.06-.94-2.06-.94L8.5 2.5l-.94 2.06-2.06.94zm10 10l.94 2.06.94-2.06 2.06-.94-2.06-.94-.94-2.06-.94 2.06-2.06.94z\"/><path d=\"M17.41 7.96l-1.37-1.37c-.4-.4-.92-.59-1.43-.59-.52 0-1.04.2-1.43.59L10.3 9.45l-7.72 7.72c-.78.78-.78 2.05 0 2.83L4 21.41c.39.39.9.59 1.41.59.51 0 1.02-.2 1.41-.59l7.78-7.78 2.81-2.81c.8-.78.8-2.07 0-2.86zM5.41 20L4 18.59l7.72-7.72 1.47 1.35L5.41 20z\"/>\n",
              "  </svg>\n",
              "      </button>\n",
              "      \n",
              "  <style>\n",
              "    .colab-df-container {\n",
              "      display:flex;\n",
              "      flex-wrap:wrap;\n",
              "      gap: 12px;\n",
              "    }\n",
              "\n",
              "    .colab-df-convert {\n",
              "      background-color: #E8F0FE;\n",
              "      border: none;\n",
              "      border-radius: 50%;\n",
              "      cursor: pointer;\n",
              "      display: none;\n",
              "      fill: #1967D2;\n",
              "      height: 32px;\n",
              "      padding: 0 0 0 0;\n",
              "      width: 32px;\n",
              "    }\n",
              "\n",
              "    .colab-df-convert:hover {\n",
              "      background-color: #E2EBFA;\n",
              "      box-shadow: 0px 1px 2px rgba(60, 64, 67, 0.3), 0px 1px 3px 1px rgba(60, 64, 67, 0.15);\n",
              "      fill: #174EA6;\n",
              "    }\n",
              "\n",
              "    [theme=dark] .colab-df-convert {\n",
              "      background-color: #3B4455;\n",
              "      fill: #D2E3FC;\n",
              "    }\n",
              "\n",
              "    [theme=dark] .colab-df-convert:hover {\n",
              "      background-color: #434B5C;\n",
              "      box-shadow: 0px 1px 3px 1px rgba(0, 0, 0, 0.15);\n",
              "      filter: drop-shadow(0px 1px 2px rgba(0, 0, 0, 0.3));\n",
              "      fill: #FFFFFF;\n",
              "    }\n",
              "  </style>\n",
              "\n",
              "      <script>\n",
              "        const buttonEl =\n",
              "          document.querySelector('#df-c1c6c9af-701c-4899-b465-5270e9bd285a button.colab-df-convert');\n",
              "        buttonEl.style.display =\n",
              "          google.colab.kernel.accessAllowed ? 'block' : 'none';\n",
              "\n",
              "        async function convertToInteractive(key) {\n",
              "          const element = document.querySelector('#df-c1c6c9af-701c-4899-b465-5270e9bd285a');\n",
              "          const dataTable =\n",
              "            await google.colab.kernel.invokeFunction('convertToInteractive',\n",
              "                                                     [key], {});\n",
              "          if (!dataTable) return;\n",
              "\n",
              "          const docLinkHtml = 'Like what you see? Visit the ' +\n",
              "            '<a target=\"_blank\" href=https://colab.research.google.com/notebooks/data_table.ipynb>data table notebook</a>'\n",
              "            + ' to learn more about interactive tables.';\n",
              "          element.innerHTML = '';\n",
              "          dataTable['output_type'] = 'display_data';\n",
              "          await google.colab.output.renderOutput(dataTable, element);\n",
              "          const docLink = document.createElement('div');\n",
              "          docLink.innerHTML = docLinkHtml;\n",
              "          element.appendChild(docLink);\n",
              "        }\n",
              "      </script>\n",
              "    </div>\n",
              "  </div>\n",
              "  "
            ]
          },
          "metadata": {},
          "execution_count": 94
        }
      ]
    },
    {
      "cell_type": "markdown",
      "source": [
        "##Scrape data from HTML tables into a DataFrame using BeautifulSoup and read_html\n",
        "\n",
        "*  Son bölümdekiyle aynı url, data, sauce ve tables nesnesini kullanarak bir DataFrame oluşturmak için read_html işlevini kullanabiliriz.\n",
        "\n",
        "İhtiyacımız olan tablonun tablolarda yer aldığını unutmayın[table_index]\n",
        "\n",
        "Artık pandalar read_html işlevini kullanabilir ve ona tablonun dize sürümünü ve ayrıca bs4 ayrıştırma motoru olan lezzeti verebiliriz.\n",
        "\n"
      ],
      "metadata": {
        "id": "AD91FZ_QuCtm"
      }
    },
    {
      "cell_type": "code",
      "source": [
        "pd.read_html(str(tables[5]),flavor = 'bs4')"
      ],
      "metadata": {
        "colab": {
          "base_uri": "https://localhost:8080/"
        },
        "id": "fIwUUyunuCwP",
        "outputId": "196bed30-99d3-46ae-cc6a-760b93fed18d"
      },
      "execution_count": null,
      "outputs": [
        {
          "output_type": "execute_result",
          "data": {
            "text/plain": [
              "[   Rank         Country  Population  Area(km2)  Density(pop/km2)  \\\n",
              " 0     1           India  1389637446    3287263               423   \n",
              " 1     2        Pakistan   242923845     796095               305   \n",
              " 2     3      Bangladesh   165650475     148460              1116   \n",
              " 3     4           Japan   124214766     377915               329   \n",
              " 4     5     Philippines   114597229     300000               382   \n",
              " 5     6         Vietnam   103808319     331210               313   \n",
              " 6     7  United Kingdom    67791400     243610               278   \n",
              " 7     8     South Korea    51844834      99720               520   \n",
              " 8     9          Taiwan    23580712      35980               655   \n",
              " 9    10       Sri Lanka    23187516      65610               353   \n",
              " \n",
              "   Population trend[citation needed]  \n",
              " 0                           Growing  \n",
              " 1                   Rapidly growing  \n",
              " 2                   Rapidly growing  \n",
              " 3                    Declining[104]  \n",
              " 4                           Growing  \n",
              " 5                           Growing  \n",
              " 6                           Growing  \n",
              " 7                            Steady  \n",
              " 8                            Steady  \n",
              " 9                           Growing  ]"
            ]
          },
          "metadata": {},
          "execution_count": 95
        }
      ]
    },
    {
      "cell_type": "code",
      "source": [
        "population_data_read_html = pd.read_html(str(tables[5]),flavor='bs4')[0]\n",
        "population_data_read_html"
      ],
      "metadata": {
        "colab": {
          "base_uri": "https://localhost:8080/",
          "height": 363
        },
        "id": "3pZgs4rhuCyt",
        "outputId": "7aaaeb5f-6534-491c-9b04-bb81a4eeedac"
      },
      "execution_count": null,
      "outputs": [
        {
          "output_type": "execute_result",
          "data": {
            "text/plain": [
              "   Rank         Country  Population  Area(km2)  Density(pop/km2)  \\\n",
              "0     1           India  1389637446    3287263               423   \n",
              "1     2        Pakistan   242923845     796095               305   \n",
              "2     3      Bangladesh   165650475     148460              1116   \n",
              "3     4           Japan   124214766     377915               329   \n",
              "4     5     Philippines   114597229     300000               382   \n",
              "5     6         Vietnam   103808319     331210               313   \n",
              "6     7  United Kingdom    67791400     243610               278   \n",
              "7     8     South Korea    51844834      99720               520   \n",
              "8     9          Taiwan    23580712      35980               655   \n",
              "9    10       Sri Lanka    23187516      65610               353   \n",
              "\n",
              "  Population trend[citation needed]  \n",
              "0                           Growing  \n",
              "1                   Rapidly growing  \n",
              "2                   Rapidly growing  \n",
              "3                    Declining[104]  \n",
              "4                           Growing  \n",
              "5                           Growing  \n",
              "6                           Growing  \n",
              "7                            Steady  \n",
              "8                            Steady  \n",
              "9                           Growing  "
            ],
            "text/html": [
              "\n",
              "  <div id=\"df-3c54121d-dbdb-4392-9f41-6db343885316\">\n",
              "    <div class=\"colab-df-container\">\n",
              "      <div>\n",
              "<style scoped>\n",
              "    .dataframe tbody tr th:only-of-type {\n",
              "        vertical-align: middle;\n",
              "    }\n",
              "\n",
              "    .dataframe tbody tr th {\n",
              "        vertical-align: top;\n",
              "    }\n",
              "\n",
              "    .dataframe thead th {\n",
              "        text-align: right;\n",
              "    }\n",
              "</style>\n",
              "<table border=\"1\" class=\"dataframe\">\n",
              "  <thead>\n",
              "    <tr style=\"text-align: right;\">\n",
              "      <th></th>\n",
              "      <th>Rank</th>\n",
              "      <th>Country</th>\n",
              "      <th>Population</th>\n",
              "      <th>Area(km2)</th>\n",
              "      <th>Density(pop/km2)</th>\n",
              "      <th>Population trend[citation needed]</th>\n",
              "    </tr>\n",
              "  </thead>\n",
              "  <tbody>\n",
              "    <tr>\n",
              "      <th>0</th>\n",
              "      <td>1</td>\n",
              "      <td>India</td>\n",
              "      <td>1389637446</td>\n",
              "      <td>3287263</td>\n",
              "      <td>423</td>\n",
              "      <td>Growing</td>\n",
              "    </tr>\n",
              "    <tr>\n",
              "      <th>1</th>\n",
              "      <td>2</td>\n",
              "      <td>Pakistan</td>\n",
              "      <td>242923845</td>\n",
              "      <td>796095</td>\n",
              "      <td>305</td>\n",
              "      <td>Rapidly growing</td>\n",
              "    </tr>\n",
              "    <tr>\n",
              "      <th>2</th>\n",
              "      <td>3</td>\n",
              "      <td>Bangladesh</td>\n",
              "      <td>165650475</td>\n",
              "      <td>148460</td>\n",
              "      <td>1116</td>\n",
              "      <td>Rapidly growing</td>\n",
              "    </tr>\n",
              "    <tr>\n",
              "      <th>3</th>\n",
              "      <td>4</td>\n",
              "      <td>Japan</td>\n",
              "      <td>124214766</td>\n",
              "      <td>377915</td>\n",
              "      <td>329</td>\n",
              "      <td>Declining[104]</td>\n",
              "    </tr>\n",
              "    <tr>\n",
              "      <th>4</th>\n",
              "      <td>5</td>\n",
              "      <td>Philippines</td>\n",
              "      <td>114597229</td>\n",
              "      <td>300000</td>\n",
              "      <td>382</td>\n",
              "      <td>Growing</td>\n",
              "    </tr>\n",
              "    <tr>\n",
              "      <th>5</th>\n",
              "      <td>6</td>\n",
              "      <td>Vietnam</td>\n",
              "      <td>103808319</td>\n",
              "      <td>331210</td>\n",
              "      <td>313</td>\n",
              "      <td>Growing</td>\n",
              "    </tr>\n",
              "    <tr>\n",
              "      <th>6</th>\n",
              "      <td>7</td>\n",
              "      <td>United Kingdom</td>\n",
              "      <td>67791400</td>\n",
              "      <td>243610</td>\n",
              "      <td>278</td>\n",
              "      <td>Growing</td>\n",
              "    </tr>\n",
              "    <tr>\n",
              "      <th>7</th>\n",
              "      <td>8</td>\n",
              "      <td>South Korea</td>\n",
              "      <td>51844834</td>\n",
              "      <td>99720</td>\n",
              "      <td>520</td>\n",
              "      <td>Steady</td>\n",
              "    </tr>\n",
              "    <tr>\n",
              "      <th>8</th>\n",
              "      <td>9</td>\n",
              "      <td>Taiwan</td>\n",
              "      <td>23580712</td>\n",
              "      <td>35980</td>\n",
              "      <td>655</td>\n",
              "      <td>Steady</td>\n",
              "    </tr>\n",
              "    <tr>\n",
              "      <th>9</th>\n",
              "      <td>10</td>\n",
              "      <td>Sri Lanka</td>\n",
              "      <td>23187516</td>\n",
              "      <td>65610</td>\n",
              "      <td>353</td>\n",
              "      <td>Growing</td>\n",
              "    </tr>\n",
              "  </tbody>\n",
              "</table>\n",
              "</div>\n",
              "      <button class=\"colab-df-convert\" onclick=\"convertToInteractive('df-3c54121d-dbdb-4392-9f41-6db343885316')\"\n",
              "              title=\"Convert this dataframe to an interactive table.\"\n",
              "              style=\"display:none;\">\n",
              "        \n",
              "  <svg xmlns=\"http://www.w3.org/2000/svg\" height=\"24px\"viewBox=\"0 0 24 24\"\n",
              "       width=\"24px\">\n",
              "    <path d=\"M0 0h24v24H0V0z\" fill=\"none\"/>\n",
              "    <path d=\"M18.56 5.44l.94 2.06.94-2.06 2.06-.94-2.06-.94-.94-2.06-.94 2.06-2.06.94zm-11 1L8.5 8.5l.94-2.06 2.06-.94-2.06-.94L8.5 2.5l-.94 2.06-2.06.94zm10 10l.94 2.06.94-2.06 2.06-.94-2.06-.94-.94-2.06-.94 2.06-2.06.94z\"/><path d=\"M17.41 7.96l-1.37-1.37c-.4-.4-.92-.59-1.43-.59-.52 0-1.04.2-1.43.59L10.3 9.45l-7.72 7.72c-.78.78-.78 2.05 0 2.83L4 21.41c.39.39.9.59 1.41.59.51 0 1.02-.2 1.41-.59l7.78-7.78 2.81-2.81c.8-.78.8-2.07 0-2.86zM5.41 20L4 18.59l7.72-7.72 1.47 1.35L5.41 20z\"/>\n",
              "  </svg>\n",
              "      </button>\n",
              "      \n",
              "  <style>\n",
              "    .colab-df-container {\n",
              "      display:flex;\n",
              "      flex-wrap:wrap;\n",
              "      gap: 12px;\n",
              "    }\n",
              "\n",
              "    .colab-df-convert {\n",
              "      background-color: #E8F0FE;\n",
              "      border: none;\n",
              "      border-radius: 50%;\n",
              "      cursor: pointer;\n",
              "      display: none;\n",
              "      fill: #1967D2;\n",
              "      height: 32px;\n",
              "      padding: 0 0 0 0;\n",
              "      width: 32px;\n",
              "    }\n",
              "\n",
              "    .colab-df-convert:hover {\n",
              "      background-color: #E2EBFA;\n",
              "      box-shadow: 0px 1px 2px rgba(60, 64, 67, 0.3), 0px 1px 3px 1px rgba(60, 64, 67, 0.15);\n",
              "      fill: #174EA6;\n",
              "    }\n",
              "\n",
              "    [theme=dark] .colab-df-convert {\n",
              "      background-color: #3B4455;\n",
              "      fill: #D2E3FC;\n",
              "    }\n",
              "\n",
              "    [theme=dark] .colab-df-convert:hover {\n",
              "      background-color: #434B5C;\n",
              "      box-shadow: 0px 1px 3px 1px rgba(0, 0, 0, 0.15);\n",
              "      filter: drop-shadow(0px 1px 2px rgba(0, 0, 0, 0.3));\n",
              "      fill: #FFFFFF;\n",
              "    }\n",
              "  </style>\n",
              "\n",
              "      <script>\n",
              "        const buttonEl =\n",
              "          document.querySelector('#df-3c54121d-dbdb-4392-9f41-6db343885316 button.colab-df-convert');\n",
              "        buttonEl.style.display =\n",
              "          google.colab.kernel.accessAllowed ? 'block' : 'none';\n",
              "\n",
              "        async function convertToInteractive(key) {\n",
              "          const element = document.querySelector('#df-3c54121d-dbdb-4392-9f41-6db343885316');\n",
              "          const dataTable =\n",
              "            await google.colab.kernel.invokeFunction('convertToInteractive',\n",
              "                                                     [key], {});\n",
              "          if (!dataTable) return;\n",
              "\n",
              "          const docLinkHtml = 'Like what you see? Visit the ' +\n",
              "            '<a target=\"_blank\" href=https://colab.research.google.com/notebooks/data_table.ipynb>data table notebook</a>'\n",
              "            + ' to learn more about interactive tables.';\n",
              "          element.innerHTML = '';\n",
              "          dataTable['output_type'] = 'display_data';\n",
              "          await google.colab.output.renderOutput(dataTable, element);\n",
              "          const docLink = document.createElement('div');\n",
              "          docLink.innerHTML = docLinkHtml;\n",
              "          element.appendChild(docLink);\n",
              "        }\n",
              "      </script>\n",
              "    </div>\n",
              "  </div>\n",
              "  "
            ]
          },
          "metadata": {},
          "execution_count": 96
        }
      ]
    },
    {
      "cell_type": "markdown",
      "source": [
        "## Scrape data from HTML tables into a DataFrame using read_html"
      ],
      "metadata": {
        "id": "ouO_lUfmuC1N"
      }
    },
    {
      "cell_type": "markdown",
      "source": [
        "DataFrame'leri doğrudan bir url'den almak için read_html işlevini de kullanabiliriz."
      ],
      "metadata": {
        "id": "I_BGrb-9uC35"
      }
    },
    {
      "cell_type": "code",
      "source": [
        "dataframe_list = pd.read_html(url,flavor='bs4')"
      ],
      "metadata": {
        "id": "U3IgQhQAuC5p"
      },
      "execution_count": null,
      "outputs": []
    },
    {
      "cell_type": "code",
      "source": [
        "len(dataframe_list)"
      ],
      "metadata": {
        "colab": {
          "base_uri": "https://localhost:8080/"
        },
        "id": "zYLxExO3uC7_",
        "outputId": "fa076db9-b573-40e9-d585-47b286f4ccb1"
      },
      "execution_count": null,
      "outputs": [
        {
          "output_type": "execute_result",
          "data": {
            "text/plain": [
              "24"
            ]
          },
          "metadata": {},
          "execution_count": 98
        }
      ]
    },
    {
      "cell_type": "code",
      "source": [
        "dataframe_list[5]"
      ],
      "metadata": {
        "colab": {
          "base_uri": "https://localhost:8080/",
          "height": 363
        },
        "id": "71MOPVC-uC_z",
        "outputId": "4b437398-e294-4563-be34-81fb61aee90e"
      },
      "execution_count": null,
      "outputs": [
        {
          "output_type": "execute_result",
          "data": {
            "text/plain": [
              "   Rank         Country  Population  Area(km2)  Density(pop/km2)  \\\n",
              "0     1           India  1389637446    3287263               423   \n",
              "1     2        Pakistan   242923845     796095               305   \n",
              "2     3      Bangladesh   165650475     148460              1116   \n",
              "3     4           Japan   124214766     377915               329   \n",
              "4     5     Philippines   114597229     300000               382   \n",
              "5     6         Vietnam   103808319     331210               313   \n",
              "6     7  United Kingdom    67791400     243610               278   \n",
              "7     8     South Korea    51844834      99720               520   \n",
              "8     9          Taiwan    23580712      35980               655   \n",
              "9    10       Sri Lanka    23187516      65610               353   \n",
              "\n",
              "  Population trend[citation needed]  \n",
              "0                           Growing  \n",
              "1                   Rapidly growing  \n",
              "2                   Rapidly growing  \n",
              "3                    Declining[104]  \n",
              "4                           Growing  \n",
              "5                           Growing  \n",
              "6                           Growing  \n",
              "7                            Steady  \n",
              "8                            Steady  \n",
              "9                           Growing  "
            ],
            "text/html": [
              "\n",
              "  <div id=\"df-2f58f45f-98bf-4329-9516-9d979e2b8873\">\n",
              "    <div class=\"colab-df-container\">\n",
              "      <div>\n",
              "<style scoped>\n",
              "    .dataframe tbody tr th:only-of-type {\n",
              "        vertical-align: middle;\n",
              "    }\n",
              "\n",
              "    .dataframe tbody tr th {\n",
              "        vertical-align: top;\n",
              "    }\n",
              "\n",
              "    .dataframe thead th {\n",
              "        text-align: right;\n",
              "    }\n",
              "</style>\n",
              "<table border=\"1\" class=\"dataframe\">\n",
              "  <thead>\n",
              "    <tr style=\"text-align: right;\">\n",
              "      <th></th>\n",
              "      <th>Rank</th>\n",
              "      <th>Country</th>\n",
              "      <th>Population</th>\n",
              "      <th>Area(km2)</th>\n",
              "      <th>Density(pop/km2)</th>\n",
              "      <th>Population trend[citation needed]</th>\n",
              "    </tr>\n",
              "  </thead>\n",
              "  <tbody>\n",
              "    <tr>\n",
              "      <th>0</th>\n",
              "      <td>1</td>\n",
              "      <td>India</td>\n",
              "      <td>1389637446</td>\n",
              "      <td>3287263</td>\n",
              "      <td>423</td>\n",
              "      <td>Growing</td>\n",
              "    </tr>\n",
              "    <tr>\n",
              "      <th>1</th>\n",
              "      <td>2</td>\n",
              "      <td>Pakistan</td>\n",
              "      <td>242923845</td>\n",
              "      <td>796095</td>\n",
              "      <td>305</td>\n",
              "      <td>Rapidly growing</td>\n",
              "    </tr>\n",
              "    <tr>\n",
              "      <th>2</th>\n",
              "      <td>3</td>\n",
              "      <td>Bangladesh</td>\n",
              "      <td>165650475</td>\n",
              "      <td>148460</td>\n",
              "      <td>1116</td>\n",
              "      <td>Rapidly growing</td>\n",
              "    </tr>\n",
              "    <tr>\n",
              "      <th>3</th>\n",
              "      <td>4</td>\n",
              "      <td>Japan</td>\n",
              "      <td>124214766</td>\n",
              "      <td>377915</td>\n",
              "      <td>329</td>\n",
              "      <td>Declining[104]</td>\n",
              "    </tr>\n",
              "    <tr>\n",
              "      <th>4</th>\n",
              "      <td>5</td>\n",
              "      <td>Philippines</td>\n",
              "      <td>114597229</td>\n",
              "      <td>300000</td>\n",
              "      <td>382</td>\n",
              "      <td>Growing</td>\n",
              "    </tr>\n",
              "    <tr>\n",
              "      <th>5</th>\n",
              "      <td>6</td>\n",
              "      <td>Vietnam</td>\n",
              "      <td>103808319</td>\n",
              "      <td>331210</td>\n",
              "      <td>313</td>\n",
              "      <td>Growing</td>\n",
              "    </tr>\n",
              "    <tr>\n",
              "      <th>6</th>\n",
              "      <td>7</td>\n",
              "      <td>United Kingdom</td>\n",
              "      <td>67791400</td>\n",
              "      <td>243610</td>\n",
              "      <td>278</td>\n",
              "      <td>Growing</td>\n",
              "    </tr>\n",
              "    <tr>\n",
              "      <th>7</th>\n",
              "      <td>8</td>\n",
              "      <td>South Korea</td>\n",
              "      <td>51844834</td>\n",
              "      <td>99720</td>\n",
              "      <td>520</td>\n",
              "      <td>Steady</td>\n",
              "    </tr>\n",
              "    <tr>\n",
              "      <th>8</th>\n",
              "      <td>9</td>\n",
              "      <td>Taiwan</td>\n",
              "      <td>23580712</td>\n",
              "      <td>35980</td>\n",
              "      <td>655</td>\n",
              "      <td>Steady</td>\n",
              "    </tr>\n",
              "    <tr>\n",
              "      <th>9</th>\n",
              "      <td>10</td>\n",
              "      <td>Sri Lanka</td>\n",
              "      <td>23187516</td>\n",
              "      <td>65610</td>\n",
              "      <td>353</td>\n",
              "      <td>Growing</td>\n",
              "    </tr>\n",
              "  </tbody>\n",
              "</table>\n",
              "</div>\n",
              "      <button class=\"colab-df-convert\" onclick=\"convertToInteractive('df-2f58f45f-98bf-4329-9516-9d979e2b8873')\"\n",
              "              title=\"Convert this dataframe to an interactive table.\"\n",
              "              style=\"display:none;\">\n",
              "        \n",
              "  <svg xmlns=\"http://www.w3.org/2000/svg\" height=\"24px\"viewBox=\"0 0 24 24\"\n",
              "       width=\"24px\">\n",
              "    <path d=\"M0 0h24v24H0V0z\" fill=\"none\"/>\n",
              "    <path d=\"M18.56 5.44l.94 2.06.94-2.06 2.06-.94-2.06-.94-.94-2.06-.94 2.06-2.06.94zm-11 1L8.5 8.5l.94-2.06 2.06-.94-2.06-.94L8.5 2.5l-.94 2.06-2.06.94zm10 10l.94 2.06.94-2.06 2.06-.94-2.06-.94-.94-2.06-.94 2.06-2.06.94z\"/><path d=\"M17.41 7.96l-1.37-1.37c-.4-.4-.92-.59-1.43-.59-.52 0-1.04.2-1.43.59L10.3 9.45l-7.72 7.72c-.78.78-.78 2.05 0 2.83L4 21.41c.39.39.9.59 1.41.59.51 0 1.02-.2 1.41-.59l7.78-7.78 2.81-2.81c.8-.78.8-2.07 0-2.86zM5.41 20L4 18.59l7.72-7.72 1.47 1.35L5.41 20z\"/>\n",
              "  </svg>\n",
              "      </button>\n",
              "      \n",
              "  <style>\n",
              "    .colab-df-container {\n",
              "      display:flex;\n",
              "      flex-wrap:wrap;\n",
              "      gap: 12px;\n",
              "    }\n",
              "\n",
              "    .colab-df-convert {\n",
              "      background-color: #E8F0FE;\n",
              "      border: none;\n",
              "      border-radius: 50%;\n",
              "      cursor: pointer;\n",
              "      display: none;\n",
              "      fill: #1967D2;\n",
              "      height: 32px;\n",
              "      padding: 0 0 0 0;\n",
              "      width: 32px;\n",
              "    }\n",
              "\n",
              "    .colab-df-convert:hover {\n",
              "      background-color: #E2EBFA;\n",
              "      box-shadow: 0px 1px 2px rgba(60, 64, 67, 0.3), 0px 1px 3px 1px rgba(60, 64, 67, 0.15);\n",
              "      fill: #174EA6;\n",
              "    }\n",
              "\n",
              "    [theme=dark] .colab-df-convert {\n",
              "      background-color: #3B4455;\n",
              "      fill: #D2E3FC;\n",
              "    }\n",
              "\n",
              "    [theme=dark] .colab-df-convert:hover {\n",
              "      background-color: #434B5C;\n",
              "      box-shadow: 0px 1px 3px 1px rgba(0, 0, 0, 0.15);\n",
              "      filter: drop-shadow(0px 1px 2px rgba(0, 0, 0, 0.3));\n",
              "      fill: #FFFFFF;\n",
              "    }\n",
              "  </style>\n",
              "\n",
              "      <script>\n",
              "        const buttonEl =\n",
              "          document.querySelector('#df-2f58f45f-98bf-4329-9516-9d979e2b8873 button.colab-df-convert');\n",
              "        buttonEl.style.display =\n",
              "          google.colab.kernel.accessAllowed ? 'block' : 'none';\n",
              "\n",
              "        async function convertToInteractive(key) {\n",
              "          const element = document.querySelector('#df-2f58f45f-98bf-4329-9516-9d979e2b8873');\n",
              "          const dataTable =\n",
              "            await google.colab.kernel.invokeFunction('convertToInteractive',\n",
              "                                                     [key], {});\n",
              "          if (!dataTable) return;\n",
              "\n",
              "          const docLinkHtml = 'Like what you see? Visit the ' +\n",
              "            '<a target=\"_blank\" href=https://colab.research.google.com/notebooks/data_table.ipynb>data table notebook</a>'\n",
              "            + ' to learn more about interactive tables.';\n",
              "          element.innerHTML = '';\n",
              "          dataTable['output_type'] = 'display_data';\n",
              "          await google.colab.output.renderOutput(dataTable, element);\n",
              "          const docLink = document.createElement('div');\n",
              "          docLink.innerHTML = docLinkHtml;\n",
              "          element.appendChild(docLink);\n",
              "        }\n",
              "      </script>\n",
              "    </div>\n",
              "  </div>\n",
              "  "
            ]
          },
          "metadata": {},
          "execution_count": 99
        }
      ]
    },
    {
      "cell_type": "markdown",
      "source": [
        "İstediğimiz belirli tabloyu seçmek için `match` parametresini de kullanabiliriz. Tablo, metinle eşleşen bir dize içeriyorsa, okunacaktır."
      ],
      "metadata": {
        "id": "6NW7HllVvfv6"
      }
    },
    {
      "cell_type": "code",
      "source": [
        "pd.read_html(url,match ='10 most densely populated countries',flavor = 'bs4')"
      ],
      "metadata": {
        "colab": {
          "base_uri": "https://localhost:8080/"
        },
        "id": "WxAuklD7v3cV",
        "outputId": "2e22103c-9014-4c5d-fbfa-4b35db9348fb"
      },
      "execution_count": null,
      "outputs": [
        {
          "output_type": "execute_result",
          "data": {
            "text/plain": [
              "[   Rank         Country  Population  Area(km2)  Density(pop/km2)\n",
              " 0     1       Singapore     5921231        719              8235\n",
              " 1     2      Bangladesh   165650475     148460              1116\n",
              " 2     3  Palestine[103]     5223000       6025               867\n",
              " 3     4         Lebanon     5296814      10400               509\n",
              " 4     5          Taiwan    23580712      35980               655\n",
              " 5     6     South Korea    51844834      99720               520\n",
              " 6     7          Rwanda    13173730      26338               500\n",
              " 7     8          Israel     8914885      21937               406\n",
              " 8     9           Haiti    11334637      27750               408\n",
              " 9    10     Netherlands    17400824      41543               419]"
            ]
          },
          "metadata": {},
          "execution_count": 101
        }
      ]
    },
    {
      "cell_type": "code",
      "source": [],
      "metadata": {
        "id": "BgNqZJNs9bCC"
      },
      "execution_count": null,
      "outputs": []
    },
    {
      "cell_type": "code",
      "source": [],
      "metadata": {
        "id": "S4iGIVqx9bEt"
      },
      "execution_count": null,
      "outputs": []
    }
  ]
}